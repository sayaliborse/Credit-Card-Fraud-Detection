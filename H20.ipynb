{
 "cells": [
  {
   "cell_type": "code",
   "execution_count": 1,
   "metadata": {},
   "outputs": [
    {
     "name": "stdout",
     "output_type": "stream",
     "text": [
      "Checking whether there is an H2O instance running at http://localhost:54321..... not found.\n",
      "Attempting to start a local H2O server...\n",
      "; Java HotSpot(TM) 64-Bit Server VM (build 25.144-b01, mixed mode)\n",
      "  Starting server from C:\\Users\\rishi\\Anaconda3\\lib\\site-packages\\h2o\\backend\\bin\\h2o.jar\n",
      "  Ice root: C:\\Users\\rishi\\AppData\\Local\\Temp\\tmpu4mday5k\n",
      "  JVM stdout: C:\\Users\\rishi\\AppData\\Local\\Temp\\tmpu4mday5k\\h2o_rishi_started_from_python.out\n",
      "  JVM stderr: C:\\Users\\rishi\\AppData\\Local\\Temp\\tmpu4mday5k\\h2o_rishi_started_from_python.err\n",
      "  Server is running at http://127.0.0.1:54321\n",
      "Connecting to H2O server at http://127.0.0.1:54321... successful.\n"
     ]
    },
    {
     "data": {
      "text/html": [
       "<div style=\"overflow:auto\"><table style=\"width:50%\"><tr><td>H2O cluster uptime:</td>\n",
       "<td>02 secs</td></tr>\n",
       "<tr><td>H2O cluster timezone:</td>\n",
       "<td>America/New_York</td></tr>\n",
       "<tr><td>H2O data parsing timezone:</td>\n",
       "<td>UTC</td></tr>\n",
       "<tr><td>H2O cluster version:</td>\n",
       "<td>3.22.0.2</td></tr>\n",
       "<tr><td>H2O cluster version age:</td>\n",
       "<td>20 days </td></tr>\n",
       "<tr><td>H2O cluster name:</td>\n",
       "<td>H2O_from_python_rishi_mt7f9g</td></tr>\n",
       "<tr><td>H2O cluster total nodes:</td>\n",
       "<td>1</td></tr>\n",
       "<tr><td>H2O cluster free memory:</td>\n",
       "<td>3.528 Gb</td></tr>\n",
       "<tr><td>H2O cluster total cores:</td>\n",
       "<td>4</td></tr>\n",
       "<tr><td>H2O cluster allowed cores:</td>\n",
       "<td>4</td></tr>\n",
       "<tr><td>H2O cluster status:</td>\n",
       "<td>accepting new members, healthy</td></tr>\n",
       "<tr><td>H2O connection url:</td>\n",
       "<td>http://127.0.0.1:54321</td></tr>\n",
       "<tr><td>H2O connection proxy:</td>\n",
       "<td>None</td></tr>\n",
       "<tr><td>H2O internal security:</td>\n",
       "<td>False</td></tr>\n",
       "<tr><td>H2O API Extensions:</td>\n",
       "<td>Algos, AutoML, Core V3, Core V4</td></tr>\n",
       "<tr><td>Python version:</td>\n",
       "<td>3.7.0 final</td></tr></table></div>"
      ],
      "text/plain": [
       "--------------------------  -------------------------------\n",
       "H2O cluster uptime:         02 secs\n",
       "H2O cluster timezone:       America/New_York\n",
       "H2O data parsing timezone:  UTC\n",
       "H2O cluster version:        3.22.0.2\n",
       "H2O cluster version age:    20 days\n",
       "H2O cluster name:           H2O_from_python_rishi_mt7f9g\n",
       "H2O cluster total nodes:    1\n",
       "H2O cluster free memory:    3.528 Gb\n",
       "H2O cluster total cores:    4\n",
       "H2O cluster allowed cores:  4\n",
       "H2O cluster status:         accepting new members, healthy\n",
       "H2O connection url:         http://127.0.0.1:54321\n",
       "H2O connection proxy:\n",
       "H2O internal security:      False\n",
       "H2O API Extensions:         Algos, AutoML, Core V3, Core V4\n",
       "Python version:             3.7.0 final\n",
       "--------------------------  -------------------------------"
      ]
     },
     "metadata": {},
     "output_type": "display_data"
    },
    {
     "name": "stdout",
     "output_type": "stream",
     "text": [
      "Are you sure you want to shutdown the H2O instance running at http://127.0.0.1:54321 (Y/N)? N\n"
     ]
    }
   ],
   "source": [
    "import h2o\n",
    "from h2o.automl import H2OAutoML\n",
    "h2o.init()\n",
    "h2o.cluster().shutdown(prompt=True) "
   ]
  },
  {
   "cell_type": "code",
   "execution_count": 19,
   "metadata": {},
   "outputs": [
    {
     "name": "stdout",
     "output_type": "stream",
     "text": [
      "Parse progress: |█████████████████████████████████████████████████████████| 100%\n"
     ]
    }
   ],
   "source": [
    "df = h2o.import_file('./cc1.csv')"
   ]
  },
  {
   "cell_type": "code",
   "execution_count": 21,
   "metadata": {},
   "outputs": [
    {
     "data": {
      "text/html": [
       "<table>\n",
       "<thead>\n",
       "<tr><th style=\"text-align: right;\">  column_a</th><th style=\"text-align: right;\">  time</th><th style=\"text-align: right;\">       v1</th><th style=\"text-align: right;\">        v2</th><th style=\"text-align: right;\">        v3</th><th style=\"text-align: right;\">       v4</th><th style=\"text-align: right;\">        v5</th><th style=\"text-align: right;\">        v6</th><th style=\"text-align: right;\">       v7</th><th style=\"text-align: right;\">        v8</th><th style=\"text-align: right;\">       v9</th><th style=\"text-align: right;\">       v10</th><th style=\"text-align: right;\">      v11</th><th style=\"text-align: right;\">       v12</th><th style=\"text-align: right;\">      v13</th><th style=\"text-align: right;\">       v14</th><th style=\"text-align: right;\">       v15</th><th style=\"text-align: right;\">      v16</th><th style=\"text-align: right;\">        v17</th><th style=\"text-align: right;\">       v18</th><th style=\"text-align: right;\">       v19</th><th style=\"text-align: right;\">       v20</th><th style=\"text-align: right;\">       v21</th><th style=\"text-align: right;\">       v22</th><th style=\"text-align: right;\">       v23</th><th style=\"text-align: right;\">       v24</th><th style=\"text-align: right;\">      v25</th><th style=\"text-align: right;\">       v26</th><th style=\"text-align: right;\">       v27</th><th style=\"text-align: right;\">        v28</th><th style=\"text-align: right;\">  amount</th><th>class  </th></tr>\n",
       "</thead>\n",
       "<tbody>\n",
       "<tr><td style=\"text-align: right;\">         1</td><td style=\"text-align: right;\">     0</td><td style=\"text-align: right;\">-1.35981 </td><td style=\"text-align: right;\">-0.0727812</td><td style=\"text-align: right;\"> 2.53635  </td><td style=\"text-align: right;\"> 1.37816 </td><td style=\"text-align: right;\">-0.338321 </td><td style=\"text-align: right;\"> 0.462388 </td><td style=\"text-align: right;\"> 0.239599</td><td style=\"text-align: right;\"> 0.0986979</td><td style=\"text-align: right;\"> 0.363787</td><td style=\"text-align: right;\"> 0.0907942</td><td style=\"text-align: right;\">-0.5516  </td><td style=\"text-align: right;\">-0.617801 </td><td style=\"text-align: right;\">-0.99139 </td><td style=\"text-align: right;\">-0.311169 </td><td style=\"text-align: right;\"> 1.46818  </td><td style=\"text-align: right;\">-0.470401</td><td style=\"text-align: right;\"> 0.207971  </td><td style=\"text-align: right;\"> 0.0257906</td><td style=\"text-align: right;\"> 0.403993 </td><td style=\"text-align: right;\"> 0.251412 </td><td style=\"text-align: right;\">-0.0183068</td><td style=\"text-align: right;\"> 0.277838 </td><td style=\"text-align: right;\">-0.110474 </td><td style=\"text-align: right;\"> 0.0669281</td><td style=\"text-align: right;\"> 0.128539</td><td style=\"text-align: right;\">-0.189115 </td><td style=\"text-align: right;\"> 0.133558 </td><td style=\"text-align: right;\">-0.0210531 </td><td style=\"text-align: right;\">  149.62</td><td>false  </td></tr>\n",
       "<tr><td style=\"text-align: right;\">         2</td><td style=\"text-align: right;\">     0</td><td style=\"text-align: right;\"> 1.19186 </td><td style=\"text-align: right;\"> 0.266151 </td><td style=\"text-align: right;\"> 0.16648  </td><td style=\"text-align: right;\"> 0.448154</td><td style=\"text-align: right;\"> 0.0600176</td><td style=\"text-align: right;\">-0.0823608</td><td style=\"text-align: right;\">-0.078803</td><td style=\"text-align: right;\"> 0.0851017</td><td style=\"text-align: right;\">-0.255425</td><td style=\"text-align: right;\">-0.166974 </td><td style=\"text-align: right;\"> 1.61273 </td><td style=\"text-align: right;\"> 1.06524  </td><td style=\"text-align: right;\"> 0.489095</td><td style=\"text-align: right;\">-0.143772 </td><td style=\"text-align: right;\"> 0.635558 </td><td style=\"text-align: right;\"> 0.463917</td><td style=\"text-align: right;\">-0.114805  </td><td style=\"text-align: right;\">-0.183361 </td><td style=\"text-align: right;\">-0.145783 </td><td style=\"text-align: right;\">-0.0690831</td><td style=\"text-align: right;\">-0.225775 </td><td style=\"text-align: right;\">-0.638672 </td><td style=\"text-align: right;\"> 0.101288 </td><td style=\"text-align: right;\">-0.339846 </td><td style=\"text-align: right;\"> 0.16717 </td><td style=\"text-align: right;\"> 0.125895 </td><td style=\"text-align: right;\">-0.0089831</td><td style=\"text-align: right;\"> 0.0147242 </td><td style=\"text-align: right;\">    2.69</td><td>false  </td></tr>\n",
       "<tr><td style=\"text-align: right;\">         3</td><td style=\"text-align: right;\">     1</td><td style=\"text-align: right;\">-1.35835 </td><td style=\"text-align: right;\">-1.34016  </td><td style=\"text-align: right;\"> 1.77321  </td><td style=\"text-align: right;\"> 0.37978 </td><td style=\"text-align: right;\">-0.503198 </td><td style=\"text-align: right;\"> 1.8005   </td><td style=\"text-align: right;\"> 0.791461</td><td style=\"text-align: right;\"> 0.247676 </td><td style=\"text-align: right;\">-1.51465 </td><td style=\"text-align: right;\"> 0.207643 </td><td style=\"text-align: right;\"> 0.624501</td><td style=\"text-align: right;\"> 0.0660837</td><td style=\"text-align: right;\"> 0.717293</td><td style=\"text-align: right;\">-0.165946 </td><td style=\"text-align: right;\"> 2.34586  </td><td style=\"text-align: right;\">-2.89008 </td><td style=\"text-align: right;\"> 1.10997   </td><td style=\"text-align: right;\">-0.121359 </td><td style=\"text-align: right;\">-2.26186  </td><td style=\"text-align: right;\"> 0.52498  </td><td style=\"text-align: right;\"> 0.247998 </td><td style=\"text-align: right;\"> 0.771679 </td><td style=\"text-align: right;\"> 0.909412 </td><td style=\"text-align: right;\">-0.689281 </td><td style=\"text-align: right;\">-0.327642</td><td style=\"text-align: right;\">-0.139097 </td><td style=\"text-align: right;\">-0.0553528</td><td style=\"text-align: right;\">-0.0597518 </td><td style=\"text-align: right;\">  378.66</td><td>false  </td></tr>\n",
       "<tr><td style=\"text-align: right;\">         4</td><td style=\"text-align: right;\">     1</td><td style=\"text-align: right;\">-0.966272</td><td style=\"text-align: right;\">-0.185226 </td><td style=\"text-align: right;\"> 1.79299  </td><td style=\"text-align: right;\">-0.863291</td><td style=\"text-align: right;\">-0.0103089</td><td style=\"text-align: right;\"> 1.2472   </td><td style=\"text-align: right;\"> 0.237609</td><td style=\"text-align: right;\"> 0.377436 </td><td style=\"text-align: right;\">-1.38702 </td><td style=\"text-align: right;\">-0.0549519</td><td style=\"text-align: right;\">-0.226487</td><td style=\"text-align: right;\"> 0.178228 </td><td style=\"text-align: right;\"> 0.507757</td><td style=\"text-align: right;\">-0.287924 </td><td style=\"text-align: right;\">-0.631418 </td><td style=\"text-align: right;\">-1.05965 </td><td style=\"text-align: right;\">-0.684093  </td><td style=\"text-align: right;\"> 1.96578  </td><td style=\"text-align: right;\">-1.23262  </td><td style=\"text-align: right;\">-0.208038 </td><td style=\"text-align: right;\">-0.1083   </td><td style=\"text-align: right;\"> 0.0052736</td><td style=\"text-align: right;\">-0.190321 </td><td style=\"text-align: right;\">-1.17558  </td><td style=\"text-align: right;\"> 0.647376</td><td style=\"text-align: right;\">-0.221929 </td><td style=\"text-align: right;\"> 0.0627228</td><td style=\"text-align: right;\"> 0.0614576 </td><td style=\"text-align: right;\">  123.5 </td><td>false  </td></tr>\n",
       "<tr><td style=\"text-align: right;\">         5</td><td style=\"text-align: right;\">     2</td><td style=\"text-align: right;\">-1.15823 </td><td style=\"text-align: right;\"> 0.877737 </td><td style=\"text-align: right;\"> 1.54872  </td><td style=\"text-align: right;\"> 0.403034</td><td style=\"text-align: right;\">-0.407193 </td><td style=\"text-align: right;\"> 0.0959215</td><td style=\"text-align: right;\"> 0.592941</td><td style=\"text-align: right;\">-0.270533 </td><td style=\"text-align: right;\"> 0.817739</td><td style=\"text-align: right;\"> 0.753074 </td><td style=\"text-align: right;\">-0.822843</td><td style=\"text-align: right;\"> 0.538196 </td><td style=\"text-align: right;\"> 1.34585 </td><td style=\"text-align: right;\">-1.11967  </td><td style=\"text-align: right;\"> 0.175121 </td><td style=\"text-align: right;\">-0.451449</td><td style=\"text-align: right;\">-0.237033  </td><td style=\"text-align: right;\">-0.0381948</td><td style=\"text-align: right;\"> 0.803487 </td><td style=\"text-align: right;\"> 0.408542 </td><td style=\"text-align: right;\">-0.0094307</td><td style=\"text-align: right;\"> 0.798278 </td><td style=\"text-align: right;\">-0.137458 </td><td style=\"text-align: right;\"> 0.141267 </td><td style=\"text-align: right;\">-0.20601 </td><td style=\"text-align: right;\"> 0.502292 </td><td style=\"text-align: right;\"> 0.219422 </td><td style=\"text-align: right;\"> 0.215153  </td><td style=\"text-align: right;\">   69.99</td><td>false  </td></tr>\n",
       "<tr><td style=\"text-align: right;\">         6</td><td style=\"text-align: right;\">     2</td><td style=\"text-align: right;\">-0.425966</td><td style=\"text-align: right;\"> 0.960523 </td><td style=\"text-align: right;\"> 1.14111  </td><td style=\"text-align: right;\">-0.168252</td><td style=\"text-align: right;\"> 0.420987 </td><td style=\"text-align: right;\">-0.0297276</td><td style=\"text-align: right;\"> 0.476201</td><td style=\"text-align: right;\"> 0.260314 </td><td style=\"text-align: right;\">-0.568671</td><td style=\"text-align: right;\">-0.371407 </td><td style=\"text-align: right;\"> 1.34126 </td><td style=\"text-align: right;\"> 0.359894 </td><td style=\"text-align: right;\">-0.358091</td><td style=\"text-align: right;\">-0.137134 </td><td style=\"text-align: right;\"> 0.517617 </td><td style=\"text-align: right;\"> 0.401726</td><td style=\"text-align: right;\">-0.0581328 </td><td style=\"text-align: right;\"> 0.0686531</td><td style=\"text-align: right;\">-0.0331938</td><td style=\"text-align: right;\"> 0.0849677</td><td style=\"text-align: right;\">-0.208254 </td><td style=\"text-align: right;\">-0.559825 </td><td style=\"text-align: right;\">-0.0263977</td><td style=\"text-align: right;\">-0.371427 </td><td style=\"text-align: right;\">-0.232794</td><td style=\"text-align: right;\"> 0.105915 </td><td style=\"text-align: right;\"> 0.253844 </td><td style=\"text-align: right;\"> 0.0810803 </td><td style=\"text-align: right;\">    3.67</td><td>false  </td></tr>\n",
       "<tr><td style=\"text-align: right;\">         7</td><td style=\"text-align: right;\">     4</td><td style=\"text-align: right;\"> 1.22966 </td><td style=\"text-align: right;\"> 0.141004 </td><td style=\"text-align: right;\"> 0.0453708</td><td style=\"text-align: right;\"> 1.20261 </td><td style=\"text-align: right;\"> 0.191881 </td><td style=\"text-align: right;\"> 0.272708 </td><td style=\"text-align: right;\">-0.005159</td><td style=\"text-align: right;\"> 0.0812129</td><td style=\"text-align: right;\"> 0.46496 </td><td style=\"text-align: right;\">-0.0992543</td><td style=\"text-align: right;\">-1.41691 </td><td style=\"text-align: right;\">-0.153826 </td><td style=\"text-align: right;\">-0.751063</td><td style=\"text-align: right;\"> 0.167372 </td><td style=\"text-align: right;\"> 0.0501436</td><td style=\"text-align: right;\">-0.443587</td><td style=\"text-align: right;\"> 0.00282051</td><td style=\"text-align: right;\">-0.611987 </td><td style=\"text-align: right;\">-0.045575 </td><td style=\"text-align: right;\">-0.219633 </td><td style=\"text-align: right;\">-0.167716 </td><td style=\"text-align: right;\">-0.27071  </td><td style=\"text-align: right;\">-0.154104 </td><td style=\"text-align: right;\">-0.780055 </td><td style=\"text-align: right;\"> 0.750137</td><td style=\"text-align: right;\">-0.257237 </td><td style=\"text-align: right;\"> 0.0345074</td><td style=\"text-align: right;\"> 0.00516777</td><td style=\"text-align: right;\">    4.99</td><td>false  </td></tr>\n",
       "<tr><td style=\"text-align: right;\">         8</td><td style=\"text-align: right;\">     7</td><td style=\"text-align: right;\">-0.644269</td><td style=\"text-align: right;\"> 1.41796  </td><td style=\"text-align: right;\"> 1.07438  </td><td style=\"text-align: right;\">-0.492199</td><td style=\"text-align: right;\"> 0.948934 </td><td style=\"text-align: right;\"> 0.428118 </td><td style=\"text-align: right;\"> 1.12063 </td><td style=\"text-align: right;\">-3.80786  </td><td style=\"text-align: right;\"> 0.615375</td><td style=\"text-align: right;\"> 1.24938  </td><td style=\"text-align: right;\">-0.619468</td><td style=\"text-align: right;\"> 0.291474 </td><td style=\"text-align: right;\"> 1.75796 </td><td style=\"text-align: right;\">-1.32387  </td><td style=\"text-align: right;\"> 0.686133 </td><td style=\"text-align: right;\">-0.076127</td><td style=\"text-align: right;\">-1.22213   </td><td style=\"text-align: right;\">-0.358222 </td><td style=\"text-align: right;\"> 0.324505 </td><td style=\"text-align: right;\">-0.156742 </td><td style=\"text-align: right;\"> 1.94347  </td><td style=\"text-align: right;\">-1.01545  </td><td style=\"text-align: right;\"> 0.0575035</td><td style=\"text-align: right;\">-0.649709 </td><td style=\"text-align: right;\">-0.415267</td><td style=\"text-align: right;\">-0.0516343</td><td style=\"text-align: right;\">-1.20692  </td><td style=\"text-align: right;\">-1.08534   </td><td style=\"text-align: right;\">   40.8 </td><td>false  </td></tr>\n",
       "<tr><td style=\"text-align: right;\">         9</td><td style=\"text-align: right;\">     7</td><td style=\"text-align: right;\">-0.894286</td><td style=\"text-align: right;\"> 0.286157 </td><td style=\"text-align: right;\">-0.113192 </td><td style=\"text-align: right;\">-0.271526</td><td style=\"text-align: right;\"> 2.6696   </td><td style=\"text-align: right;\"> 3.72182  </td><td style=\"text-align: right;\"> 0.370145</td><td style=\"text-align: right;\"> 0.851084 </td><td style=\"text-align: right;\">-0.392048</td><td style=\"text-align: right;\">-0.41043  </td><td style=\"text-align: right;\">-0.705117</td><td style=\"text-align: right;\">-0.110452 </td><td style=\"text-align: right;\">-0.286254</td><td style=\"text-align: right;\"> 0.0743554</td><td style=\"text-align: right;\">-0.328783 </td><td style=\"text-align: right;\">-0.210077</td><td style=\"text-align: right;\">-0.499768  </td><td style=\"text-align: right;\"> 0.118765 </td><td style=\"text-align: right;\"> 0.570328 </td><td style=\"text-align: right;\"> 0.0527357</td><td style=\"text-align: right;\">-0.0734251</td><td style=\"text-align: right;\">-0.268092 </td><td style=\"text-align: right;\">-0.204233 </td><td style=\"text-align: right;\"> 1.01159  </td><td style=\"text-align: right;\"> 0.373205</td><td style=\"text-align: right;\">-0.384157 </td><td style=\"text-align: right;\"> 0.0117474</td><td style=\"text-align: right;\"> 0.142404  </td><td style=\"text-align: right;\">   93.2 </td><td>false  </td></tr>\n",
       "<tr><td style=\"text-align: right;\">        10</td><td style=\"text-align: right;\">     9</td><td style=\"text-align: right;\">-0.338262</td><td style=\"text-align: right;\"> 1.11959  </td><td style=\"text-align: right;\"> 1.04437  </td><td style=\"text-align: right;\">-0.222187</td><td style=\"text-align: right;\"> 0.499361 </td><td style=\"text-align: right;\">-0.246761 </td><td style=\"text-align: right;\"> 0.651583</td><td style=\"text-align: right;\"> 0.0695386</td><td style=\"text-align: right;\">-0.736727</td><td style=\"text-align: right;\">-0.366846 </td><td style=\"text-align: right;\"> 1.01761 </td><td style=\"text-align: right;\"> 0.83639  </td><td style=\"text-align: right;\"> 1.00684 </td><td style=\"text-align: right;\">-0.443523 </td><td style=\"text-align: right;\"> 0.150219 </td><td style=\"text-align: right;\"> 0.739453</td><td style=\"text-align: right;\">-0.54098   </td><td style=\"text-align: right;\"> 0.476677 </td><td style=\"text-align: right;\"> 0.451773 </td><td style=\"text-align: right;\"> 0.203711 </td><td style=\"text-align: right;\">-0.246914 </td><td style=\"text-align: right;\">-0.633753 </td><td style=\"text-align: right;\">-0.120794 </td><td style=\"text-align: right;\">-0.38505  </td><td style=\"text-align: right;\">-0.069733</td><td style=\"text-align: right;\"> 0.0941988</td><td style=\"text-align: right;\"> 0.246219 </td><td style=\"text-align: right;\"> 0.0830756 </td><td style=\"text-align: right;\">    3.68</td><td>false  </td></tr>\n",
       "</tbody>\n",
       "</table>"
      ]
     },
     "metadata": {},
     "output_type": "display_data"
    },
    {
     "data": {
      "text/plain": []
     },
     "execution_count": 21,
     "metadata": {},
     "output_type": "execute_result"
    }
   ],
   "source": [
    "df.head()"
   ]
  },
  {
   "cell_type": "code",
   "execution_count": 22,
   "metadata": {},
   "outputs": [],
   "source": [
    "data = df.drop('column_a', axis =1)"
   ]
  },
  {
   "cell_type": "code",
   "execution_count": 23,
   "metadata": {},
   "outputs": [],
   "source": [
    "dataset = data.drop('time', axis =1)"
   ]
  },
  {
   "cell_type": "code",
   "execution_count": 24,
   "metadata": {},
   "outputs": [
    {
     "data": {
      "text/html": [
       "<table>\n",
       "<thead>\n",
       "<tr><th style=\"text-align: right;\">       v1</th><th style=\"text-align: right;\">        v2</th><th style=\"text-align: right;\">        v3</th><th style=\"text-align: right;\">       v4</th><th style=\"text-align: right;\">        v5</th><th style=\"text-align: right;\">        v6</th><th style=\"text-align: right;\">       v7</th><th style=\"text-align: right;\">        v8</th><th style=\"text-align: right;\">       v9</th><th style=\"text-align: right;\">       v10</th><th style=\"text-align: right;\">      v11</th><th style=\"text-align: right;\">       v12</th><th style=\"text-align: right;\">      v13</th><th style=\"text-align: right;\">       v14</th><th style=\"text-align: right;\">       v15</th><th style=\"text-align: right;\">      v16</th><th style=\"text-align: right;\">        v17</th><th style=\"text-align: right;\">       v18</th><th style=\"text-align: right;\">       v19</th><th style=\"text-align: right;\">       v20</th><th style=\"text-align: right;\">       v21</th><th style=\"text-align: right;\">       v22</th><th style=\"text-align: right;\">       v23</th><th style=\"text-align: right;\">       v24</th><th style=\"text-align: right;\">      v25</th><th style=\"text-align: right;\">       v26</th><th style=\"text-align: right;\">       v27</th><th style=\"text-align: right;\">        v28</th><th style=\"text-align: right;\">  amount</th><th>class  </th></tr>\n",
       "</thead>\n",
       "<tbody>\n",
       "<tr><td style=\"text-align: right;\">-1.35981 </td><td style=\"text-align: right;\">-0.0727812</td><td style=\"text-align: right;\"> 2.53635  </td><td style=\"text-align: right;\"> 1.37816 </td><td style=\"text-align: right;\">-0.338321 </td><td style=\"text-align: right;\"> 0.462388 </td><td style=\"text-align: right;\"> 0.239599</td><td style=\"text-align: right;\"> 0.0986979</td><td style=\"text-align: right;\"> 0.363787</td><td style=\"text-align: right;\"> 0.0907942</td><td style=\"text-align: right;\">-0.5516  </td><td style=\"text-align: right;\">-0.617801 </td><td style=\"text-align: right;\">-0.99139 </td><td style=\"text-align: right;\">-0.311169 </td><td style=\"text-align: right;\"> 1.46818  </td><td style=\"text-align: right;\">-0.470401</td><td style=\"text-align: right;\"> 0.207971  </td><td style=\"text-align: right;\"> 0.0257906</td><td style=\"text-align: right;\"> 0.403993 </td><td style=\"text-align: right;\"> 0.251412 </td><td style=\"text-align: right;\">-0.0183068</td><td style=\"text-align: right;\"> 0.277838 </td><td style=\"text-align: right;\">-0.110474 </td><td style=\"text-align: right;\"> 0.0669281</td><td style=\"text-align: right;\"> 0.128539</td><td style=\"text-align: right;\">-0.189115 </td><td style=\"text-align: right;\"> 0.133558 </td><td style=\"text-align: right;\">-0.0210531 </td><td style=\"text-align: right;\">  149.62</td><td>false  </td></tr>\n",
       "<tr><td style=\"text-align: right;\"> 1.19186 </td><td style=\"text-align: right;\"> 0.266151 </td><td style=\"text-align: right;\"> 0.16648  </td><td style=\"text-align: right;\"> 0.448154</td><td style=\"text-align: right;\"> 0.0600176</td><td style=\"text-align: right;\">-0.0823608</td><td style=\"text-align: right;\">-0.078803</td><td style=\"text-align: right;\"> 0.0851017</td><td style=\"text-align: right;\">-0.255425</td><td style=\"text-align: right;\">-0.166974 </td><td style=\"text-align: right;\"> 1.61273 </td><td style=\"text-align: right;\"> 1.06524  </td><td style=\"text-align: right;\"> 0.489095</td><td style=\"text-align: right;\">-0.143772 </td><td style=\"text-align: right;\"> 0.635558 </td><td style=\"text-align: right;\"> 0.463917</td><td style=\"text-align: right;\">-0.114805  </td><td style=\"text-align: right;\">-0.183361 </td><td style=\"text-align: right;\">-0.145783 </td><td style=\"text-align: right;\">-0.0690831</td><td style=\"text-align: right;\">-0.225775 </td><td style=\"text-align: right;\">-0.638672 </td><td style=\"text-align: right;\"> 0.101288 </td><td style=\"text-align: right;\">-0.339846 </td><td style=\"text-align: right;\"> 0.16717 </td><td style=\"text-align: right;\"> 0.125895 </td><td style=\"text-align: right;\">-0.0089831</td><td style=\"text-align: right;\"> 0.0147242 </td><td style=\"text-align: right;\">    2.69</td><td>false  </td></tr>\n",
       "<tr><td style=\"text-align: right;\">-1.35835 </td><td style=\"text-align: right;\">-1.34016  </td><td style=\"text-align: right;\"> 1.77321  </td><td style=\"text-align: right;\"> 0.37978 </td><td style=\"text-align: right;\">-0.503198 </td><td style=\"text-align: right;\"> 1.8005   </td><td style=\"text-align: right;\"> 0.791461</td><td style=\"text-align: right;\"> 0.247676 </td><td style=\"text-align: right;\">-1.51465 </td><td style=\"text-align: right;\"> 0.207643 </td><td style=\"text-align: right;\"> 0.624501</td><td style=\"text-align: right;\"> 0.0660837</td><td style=\"text-align: right;\"> 0.717293</td><td style=\"text-align: right;\">-0.165946 </td><td style=\"text-align: right;\"> 2.34586  </td><td style=\"text-align: right;\">-2.89008 </td><td style=\"text-align: right;\"> 1.10997   </td><td style=\"text-align: right;\">-0.121359 </td><td style=\"text-align: right;\">-2.26186  </td><td style=\"text-align: right;\"> 0.52498  </td><td style=\"text-align: right;\"> 0.247998 </td><td style=\"text-align: right;\"> 0.771679 </td><td style=\"text-align: right;\"> 0.909412 </td><td style=\"text-align: right;\">-0.689281 </td><td style=\"text-align: right;\">-0.327642</td><td style=\"text-align: right;\">-0.139097 </td><td style=\"text-align: right;\">-0.0553528</td><td style=\"text-align: right;\">-0.0597518 </td><td style=\"text-align: right;\">  378.66</td><td>false  </td></tr>\n",
       "<tr><td style=\"text-align: right;\">-0.966272</td><td style=\"text-align: right;\">-0.185226 </td><td style=\"text-align: right;\"> 1.79299  </td><td style=\"text-align: right;\">-0.863291</td><td style=\"text-align: right;\">-0.0103089</td><td style=\"text-align: right;\"> 1.2472   </td><td style=\"text-align: right;\"> 0.237609</td><td style=\"text-align: right;\"> 0.377436 </td><td style=\"text-align: right;\">-1.38702 </td><td style=\"text-align: right;\">-0.0549519</td><td style=\"text-align: right;\">-0.226487</td><td style=\"text-align: right;\"> 0.178228 </td><td style=\"text-align: right;\"> 0.507757</td><td style=\"text-align: right;\">-0.287924 </td><td style=\"text-align: right;\">-0.631418 </td><td style=\"text-align: right;\">-1.05965 </td><td style=\"text-align: right;\">-0.684093  </td><td style=\"text-align: right;\"> 1.96578  </td><td style=\"text-align: right;\">-1.23262  </td><td style=\"text-align: right;\">-0.208038 </td><td style=\"text-align: right;\">-0.1083   </td><td style=\"text-align: right;\"> 0.0052736</td><td style=\"text-align: right;\">-0.190321 </td><td style=\"text-align: right;\">-1.17558  </td><td style=\"text-align: right;\"> 0.647376</td><td style=\"text-align: right;\">-0.221929 </td><td style=\"text-align: right;\"> 0.0627228</td><td style=\"text-align: right;\"> 0.0614576 </td><td style=\"text-align: right;\">  123.5 </td><td>false  </td></tr>\n",
       "<tr><td style=\"text-align: right;\">-1.15823 </td><td style=\"text-align: right;\"> 0.877737 </td><td style=\"text-align: right;\"> 1.54872  </td><td style=\"text-align: right;\"> 0.403034</td><td style=\"text-align: right;\">-0.407193 </td><td style=\"text-align: right;\"> 0.0959215</td><td style=\"text-align: right;\"> 0.592941</td><td style=\"text-align: right;\">-0.270533 </td><td style=\"text-align: right;\"> 0.817739</td><td style=\"text-align: right;\"> 0.753074 </td><td style=\"text-align: right;\">-0.822843</td><td style=\"text-align: right;\"> 0.538196 </td><td style=\"text-align: right;\"> 1.34585 </td><td style=\"text-align: right;\">-1.11967  </td><td style=\"text-align: right;\"> 0.175121 </td><td style=\"text-align: right;\">-0.451449</td><td style=\"text-align: right;\">-0.237033  </td><td style=\"text-align: right;\">-0.0381948</td><td style=\"text-align: right;\"> 0.803487 </td><td style=\"text-align: right;\"> 0.408542 </td><td style=\"text-align: right;\">-0.0094307</td><td style=\"text-align: right;\"> 0.798278 </td><td style=\"text-align: right;\">-0.137458 </td><td style=\"text-align: right;\"> 0.141267 </td><td style=\"text-align: right;\">-0.20601 </td><td style=\"text-align: right;\"> 0.502292 </td><td style=\"text-align: right;\"> 0.219422 </td><td style=\"text-align: right;\"> 0.215153  </td><td style=\"text-align: right;\">   69.99</td><td>false  </td></tr>\n",
       "<tr><td style=\"text-align: right;\">-0.425966</td><td style=\"text-align: right;\"> 0.960523 </td><td style=\"text-align: right;\"> 1.14111  </td><td style=\"text-align: right;\">-0.168252</td><td style=\"text-align: right;\"> 0.420987 </td><td style=\"text-align: right;\">-0.0297276</td><td style=\"text-align: right;\"> 0.476201</td><td style=\"text-align: right;\"> 0.260314 </td><td style=\"text-align: right;\">-0.568671</td><td style=\"text-align: right;\">-0.371407 </td><td style=\"text-align: right;\"> 1.34126 </td><td style=\"text-align: right;\"> 0.359894 </td><td style=\"text-align: right;\">-0.358091</td><td style=\"text-align: right;\">-0.137134 </td><td style=\"text-align: right;\"> 0.517617 </td><td style=\"text-align: right;\"> 0.401726</td><td style=\"text-align: right;\">-0.0581328 </td><td style=\"text-align: right;\"> 0.0686531</td><td style=\"text-align: right;\">-0.0331938</td><td style=\"text-align: right;\"> 0.0849677</td><td style=\"text-align: right;\">-0.208254 </td><td style=\"text-align: right;\">-0.559825 </td><td style=\"text-align: right;\">-0.0263977</td><td style=\"text-align: right;\">-0.371427 </td><td style=\"text-align: right;\">-0.232794</td><td style=\"text-align: right;\"> 0.105915 </td><td style=\"text-align: right;\"> 0.253844 </td><td style=\"text-align: right;\"> 0.0810803 </td><td style=\"text-align: right;\">    3.67</td><td>false  </td></tr>\n",
       "<tr><td style=\"text-align: right;\"> 1.22966 </td><td style=\"text-align: right;\"> 0.141004 </td><td style=\"text-align: right;\"> 0.0453708</td><td style=\"text-align: right;\"> 1.20261 </td><td style=\"text-align: right;\"> 0.191881 </td><td style=\"text-align: right;\"> 0.272708 </td><td style=\"text-align: right;\">-0.005159</td><td style=\"text-align: right;\"> 0.0812129</td><td style=\"text-align: right;\"> 0.46496 </td><td style=\"text-align: right;\">-0.0992543</td><td style=\"text-align: right;\">-1.41691 </td><td style=\"text-align: right;\">-0.153826 </td><td style=\"text-align: right;\">-0.751063</td><td style=\"text-align: right;\"> 0.167372 </td><td style=\"text-align: right;\"> 0.0501436</td><td style=\"text-align: right;\">-0.443587</td><td style=\"text-align: right;\"> 0.00282051</td><td style=\"text-align: right;\">-0.611987 </td><td style=\"text-align: right;\">-0.045575 </td><td style=\"text-align: right;\">-0.219633 </td><td style=\"text-align: right;\">-0.167716 </td><td style=\"text-align: right;\">-0.27071  </td><td style=\"text-align: right;\">-0.154104 </td><td style=\"text-align: right;\">-0.780055 </td><td style=\"text-align: right;\"> 0.750137</td><td style=\"text-align: right;\">-0.257237 </td><td style=\"text-align: right;\"> 0.0345074</td><td style=\"text-align: right;\"> 0.00516777</td><td style=\"text-align: right;\">    4.99</td><td>false  </td></tr>\n",
       "<tr><td style=\"text-align: right;\">-0.644269</td><td style=\"text-align: right;\"> 1.41796  </td><td style=\"text-align: right;\"> 1.07438  </td><td style=\"text-align: right;\">-0.492199</td><td style=\"text-align: right;\"> 0.948934 </td><td style=\"text-align: right;\"> 0.428118 </td><td style=\"text-align: right;\"> 1.12063 </td><td style=\"text-align: right;\">-3.80786  </td><td style=\"text-align: right;\"> 0.615375</td><td style=\"text-align: right;\"> 1.24938  </td><td style=\"text-align: right;\">-0.619468</td><td style=\"text-align: right;\"> 0.291474 </td><td style=\"text-align: right;\"> 1.75796 </td><td style=\"text-align: right;\">-1.32387  </td><td style=\"text-align: right;\"> 0.686133 </td><td style=\"text-align: right;\">-0.076127</td><td style=\"text-align: right;\">-1.22213   </td><td style=\"text-align: right;\">-0.358222 </td><td style=\"text-align: right;\"> 0.324505 </td><td style=\"text-align: right;\">-0.156742 </td><td style=\"text-align: right;\"> 1.94347  </td><td style=\"text-align: right;\">-1.01545  </td><td style=\"text-align: right;\"> 0.0575035</td><td style=\"text-align: right;\">-0.649709 </td><td style=\"text-align: right;\">-0.415267</td><td style=\"text-align: right;\">-0.0516343</td><td style=\"text-align: right;\">-1.20692  </td><td style=\"text-align: right;\">-1.08534   </td><td style=\"text-align: right;\">   40.8 </td><td>false  </td></tr>\n",
       "<tr><td style=\"text-align: right;\">-0.894286</td><td style=\"text-align: right;\"> 0.286157 </td><td style=\"text-align: right;\">-0.113192 </td><td style=\"text-align: right;\">-0.271526</td><td style=\"text-align: right;\"> 2.6696   </td><td style=\"text-align: right;\"> 3.72182  </td><td style=\"text-align: right;\"> 0.370145</td><td style=\"text-align: right;\"> 0.851084 </td><td style=\"text-align: right;\">-0.392048</td><td style=\"text-align: right;\">-0.41043  </td><td style=\"text-align: right;\">-0.705117</td><td style=\"text-align: right;\">-0.110452 </td><td style=\"text-align: right;\">-0.286254</td><td style=\"text-align: right;\"> 0.0743554</td><td style=\"text-align: right;\">-0.328783 </td><td style=\"text-align: right;\">-0.210077</td><td style=\"text-align: right;\">-0.499768  </td><td style=\"text-align: right;\"> 0.118765 </td><td style=\"text-align: right;\"> 0.570328 </td><td style=\"text-align: right;\"> 0.0527357</td><td style=\"text-align: right;\">-0.0734251</td><td style=\"text-align: right;\">-0.268092 </td><td style=\"text-align: right;\">-0.204233 </td><td style=\"text-align: right;\"> 1.01159  </td><td style=\"text-align: right;\"> 0.373205</td><td style=\"text-align: right;\">-0.384157 </td><td style=\"text-align: right;\"> 0.0117474</td><td style=\"text-align: right;\"> 0.142404  </td><td style=\"text-align: right;\">   93.2 </td><td>false  </td></tr>\n",
       "<tr><td style=\"text-align: right;\">-0.338262</td><td style=\"text-align: right;\"> 1.11959  </td><td style=\"text-align: right;\"> 1.04437  </td><td style=\"text-align: right;\">-0.222187</td><td style=\"text-align: right;\"> 0.499361 </td><td style=\"text-align: right;\">-0.246761 </td><td style=\"text-align: right;\"> 0.651583</td><td style=\"text-align: right;\"> 0.0695386</td><td style=\"text-align: right;\">-0.736727</td><td style=\"text-align: right;\">-0.366846 </td><td style=\"text-align: right;\"> 1.01761 </td><td style=\"text-align: right;\"> 0.83639  </td><td style=\"text-align: right;\"> 1.00684 </td><td style=\"text-align: right;\">-0.443523 </td><td style=\"text-align: right;\"> 0.150219 </td><td style=\"text-align: right;\"> 0.739453</td><td style=\"text-align: right;\">-0.54098   </td><td style=\"text-align: right;\"> 0.476677 </td><td style=\"text-align: right;\"> 0.451773 </td><td style=\"text-align: right;\"> 0.203711 </td><td style=\"text-align: right;\">-0.246914 </td><td style=\"text-align: right;\">-0.633753 </td><td style=\"text-align: right;\">-0.120794 </td><td style=\"text-align: right;\">-0.38505  </td><td style=\"text-align: right;\">-0.069733</td><td style=\"text-align: right;\"> 0.0941988</td><td style=\"text-align: right;\"> 0.246219 </td><td style=\"text-align: right;\"> 0.0830756 </td><td style=\"text-align: right;\">    3.68</td><td>false  </td></tr>\n",
       "</tbody>\n",
       "</table>"
      ]
     },
     "metadata": {},
     "output_type": "display_data"
    },
    {
     "data": {
      "text/plain": []
     },
     "execution_count": 24,
     "metadata": {},
     "output_type": "execute_result"
    }
   ],
   "source": [
    "dataset.head()"
   ]
  },
  {
   "cell_type": "code",
   "execution_count": 25,
   "metadata": {},
   "outputs": [],
   "source": [
    "y = 'class'"
   ]
  },
  {
   "cell_type": "code",
   "execution_count": 26,
   "metadata": {},
   "outputs": [],
   "source": [
    "aml = H2OAutoML(max_runtime_secs = 6000, seed = 1)"
   ]
  },
  {
   "cell_type": "code",
   "execution_count": 27,
   "metadata": {},
   "outputs": [],
   "source": [
    "splits = dataset.split_frame(ratios = [0.8], seed = 1)\n",
    "train = splits[0]\n",
    "test = splits[1]"
   ]
  },
  {
   "cell_type": "code",
   "execution_count": 28,
   "metadata": {},
   "outputs": [
    {
     "data": {
      "text/html": [
       "<table>\n",
       "<thead>\n",
       "<tr><th style=\"text-align: right;\">       v1</th><th style=\"text-align: right;\">        v2</th><th style=\"text-align: right;\">        v3</th><th style=\"text-align: right;\">        v4</th><th style=\"text-align: right;\">        v5</th><th style=\"text-align: right;\">        v6</th><th style=\"text-align: right;\">       v7</th><th style=\"text-align: right;\">        v8</th><th style=\"text-align: right;\">       v9</th><th style=\"text-align: right;\">       v10</th><th style=\"text-align: right;\">      v11</th><th style=\"text-align: right;\">      v12</th><th style=\"text-align: right;\">       v13</th><th style=\"text-align: right;\">       v14</th><th style=\"text-align: right;\">       v15</th><th style=\"text-align: right;\">       v16</th><th style=\"text-align: right;\">        v17</th><th style=\"text-align: right;\">       v18</th><th style=\"text-align: right;\">       v19</th><th style=\"text-align: right;\">       v20</th><th style=\"text-align: right;\">       v21</th><th style=\"text-align: right;\">       v22</th><th style=\"text-align: right;\">        v23</th><th style=\"text-align: right;\">       v24</th><th style=\"text-align: right;\">      v25</th><th style=\"text-align: right;\">       v26</th><th style=\"text-align: right;\">       v27</th><th style=\"text-align: right;\">        v28</th><th style=\"text-align: right;\">  amount</th><th>class  </th></tr>\n",
       "</thead>\n",
       "<tbody>\n",
       "<tr><td style=\"text-align: right;\">-1.35981 </td><td style=\"text-align: right;\">-0.0727812</td><td style=\"text-align: right;\"> 2.53635  </td><td style=\"text-align: right;\"> 1.37816  </td><td style=\"text-align: right;\">-0.338321 </td><td style=\"text-align: right;\"> 0.462388 </td><td style=\"text-align: right;\"> 0.239599</td><td style=\"text-align: right;\"> 0.0986979</td><td style=\"text-align: right;\"> 0.363787</td><td style=\"text-align: right;\"> 0.0907942</td><td style=\"text-align: right;\">-0.5516  </td><td style=\"text-align: right;\">-0.617801</td><td style=\"text-align: right;\">-0.99139  </td><td style=\"text-align: right;\">-0.311169 </td><td style=\"text-align: right;\"> 1.46818  </td><td style=\"text-align: right;\">-0.470401 </td><td style=\"text-align: right;\"> 0.207971  </td><td style=\"text-align: right;\"> 0.0257906</td><td style=\"text-align: right;\"> 0.403993 </td><td style=\"text-align: right;\"> 0.251412 </td><td style=\"text-align: right;\">-0.0183068</td><td style=\"text-align: right;\"> 0.277838 </td><td style=\"text-align: right;\">-0.110474  </td><td style=\"text-align: right;\"> 0.0669281</td><td style=\"text-align: right;\"> 0.128539</td><td style=\"text-align: right;\">-0.189115 </td><td style=\"text-align: right;\"> 0.133558 </td><td style=\"text-align: right;\">-0.0210531 </td><td style=\"text-align: right;\">  149.62</td><td>false  </td></tr>\n",
       "<tr><td style=\"text-align: right;\"> 1.19186 </td><td style=\"text-align: right;\"> 0.266151 </td><td style=\"text-align: right;\"> 0.16648  </td><td style=\"text-align: right;\"> 0.448154 </td><td style=\"text-align: right;\"> 0.0600176</td><td style=\"text-align: right;\">-0.0823608</td><td style=\"text-align: right;\">-0.078803</td><td style=\"text-align: right;\"> 0.0851017</td><td style=\"text-align: right;\">-0.255425</td><td style=\"text-align: right;\">-0.166974 </td><td style=\"text-align: right;\"> 1.61273 </td><td style=\"text-align: right;\"> 1.06524 </td><td style=\"text-align: right;\"> 0.489095 </td><td style=\"text-align: right;\">-0.143772 </td><td style=\"text-align: right;\"> 0.635558 </td><td style=\"text-align: right;\"> 0.463917 </td><td style=\"text-align: right;\">-0.114805  </td><td style=\"text-align: right;\">-0.183361 </td><td style=\"text-align: right;\">-0.145783 </td><td style=\"text-align: right;\">-0.0690831</td><td style=\"text-align: right;\">-0.225775 </td><td style=\"text-align: right;\">-0.638672 </td><td style=\"text-align: right;\"> 0.101288  </td><td style=\"text-align: right;\">-0.339846 </td><td style=\"text-align: right;\"> 0.16717 </td><td style=\"text-align: right;\"> 0.125895 </td><td style=\"text-align: right;\">-0.0089831</td><td style=\"text-align: right;\"> 0.0147242 </td><td style=\"text-align: right;\">    2.69</td><td>false  </td></tr>\n",
       "<tr><td style=\"text-align: right;\">-0.966272</td><td style=\"text-align: right;\">-0.185226 </td><td style=\"text-align: right;\"> 1.79299  </td><td style=\"text-align: right;\">-0.863291 </td><td style=\"text-align: right;\">-0.0103089</td><td style=\"text-align: right;\"> 1.2472   </td><td style=\"text-align: right;\"> 0.237609</td><td style=\"text-align: right;\"> 0.377436 </td><td style=\"text-align: right;\">-1.38702 </td><td style=\"text-align: right;\">-0.0549519</td><td style=\"text-align: right;\">-0.226487</td><td style=\"text-align: right;\"> 0.178228</td><td style=\"text-align: right;\"> 0.507757 </td><td style=\"text-align: right;\">-0.287924 </td><td style=\"text-align: right;\">-0.631418 </td><td style=\"text-align: right;\">-1.05965  </td><td style=\"text-align: right;\">-0.684093  </td><td style=\"text-align: right;\"> 1.96578  </td><td style=\"text-align: right;\">-1.23262  </td><td style=\"text-align: right;\">-0.208038 </td><td style=\"text-align: right;\">-0.1083   </td><td style=\"text-align: right;\"> 0.0052736</td><td style=\"text-align: right;\">-0.190321  </td><td style=\"text-align: right;\">-1.17558  </td><td style=\"text-align: right;\"> 0.647376</td><td style=\"text-align: right;\">-0.221929 </td><td style=\"text-align: right;\"> 0.0627228</td><td style=\"text-align: right;\"> 0.0614576 </td><td style=\"text-align: right;\">  123.5 </td><td>false  </td></tr>\n",
       "<tr><td style=\"text-align: right;\">-1.15823 </td><td style=\"text-align: right;\"> 0.877737 </td><td style=\"text-align: right;\"> 1.54872  </td><td style=\"text-align: right;\"> 0.403034 </td><td style=\"text-align: right;\">-0.407193 </td><td style=\"text-align: right;\"> 0.0959215</td><td style=\"text-align: right;\"> 0.592941</td><td style=\"text-align: right;\">-0.270533 </td><td style=\"text-align: right;\"> 0.817739</td><td style=\"text-align: right;\"> 0.753074 </td><td style=\"text-align: right;\">-0.822843</td><td style=\"text-align: right;\"> 0.538196</td><td style=\"text-align: right;\"> 1.34585  </td><td style=\"text-align: right;\">-1.11967  </td><td style=\"text-align: right;\"> 0.175121 </td><td style=\"text-align: right;\">-0.451449 </td><td style=\"text-align: right;\">-0.237033  </td><td style=\"text-align: right;\">-0.0381948</td><td style=\"text-align: right;\"> 0.803487 </td><td style=\"text-align: right;\"> 0.408542 </td><td style=\"text-align: right;\">-0.0094307</td><td style=\"text-align: right;\"> 0.798278 </td><td style=\"text-align: right;\">-0.137458  </td><td style=\"text-align: right;\"> 0.141267 </td><td style=\"text-align: right;\">-0.20601 </td><td style=\"text-align: right;\"> 0.502292 </td><td style=\"text-align: right;\"> 0.219422 </td><td style=\"text-align: right;\"> 0.215153  </td><td style=\"text-align: right;\">   69.99</td><td>false  </td></tr>\n",
       "<tr><td style=\"text-align: right;\">-0.425966</td><td style=\"text-align: right;\"> 0.960523 </td><td style=\"text-align: right;\"> 1.14111  </td><td style=\"text-align: right;\">-0.168252 </td><td style=\"text-align: right;\"> 0.420987 </td><td style=\"text-align: right;\">-0.0297276</td><td style=\"text-align: right;\"> 0.476201</td><td style=\"text-align: right;\"> 0.260314 </td><td style=\"text-align: right;\">-0.568671</td><td style=\"text-align: right;\">-0.371407 </td><td style=\"text-align: right;\"> 1.34126 </td><td style=\"text-align: right;\"> 0.359894</td><td style=\"text-align: right;\">-0.358091 </td><td style=\"text-align: right;\">-0.137134 </td><td style=\"text-align: right;\"> 0.517617 </td><td style=\"text-align: right;\"> 0.401726 </td><td style=\"text-align: right;\">-0.0581328 </td><td style=\"text-align: right;\"> 0.0686531</td><td style=\"text-align: right;\">-0.0331938</td><td style=\"text-align: right;\"> 0.0849677</td><td style=\"text-align: right;\">-0.208254 </td><td style=\"text-align: right;\">-0.559825 </td><td style=\"text-align: right;\">-0.0263977 </td><td style=\"text-align: right;\">-0.371427 </td><td style=\"text-align: right;\">-0.232794</td><td style=\"text-align: right;\"> 0.105915 </td><td style=\"text-align: right;\"> 0.253844 </td><td style=\"text-align: right;\"> 0.0810803 </td><td style=\"text-align: right;\">    3.67</td><td>false  </td></tr>\n",
       "<tr><td style=\"text-align: right;\"> 1.22966 </td><td style=\"text-align: right;\"> 0.141004 </td><td style=\"text-align: right;\"> 0.0453708</td><td style=\"text-align: right;\"> 1.20261  </td><td style=\"text-align: right;\"> 0.191881 </td><td style=\"text-align: right;\"> 0.272708 </td><td style=\"text-align: right;\">-0.005159</td><td style=\"text-align: right;\"> 0.0812129</td><td style=\"text-align: right;\"> 0.46496 </td><td style=\"text-align: right;\">-0.0992543</td><td style=\"text-align: right;\">-1.41691 </td><td style=\"text-align: right;\">-0.153826</td><td style=\"text-align: right;\">-0.751063 </td><td style=\"text-align: right;\"> 0.167372 </td><td style=\"text-align: right;\"> 0.0501436</td><td style=\"text-align: right;\">-0.443587 </td><td style=\"text-align: right;\"> 0.00282051</td><td style=\"text-align: right;\">-0.611987 </td><td style=\"text-align: right;\">-0.045575 </td><td style=\"text-align: right;\">-0.219633 </td><td style=\"text-align: right;\">-0.167716 </td><td style=\"text-align: right;\">-0.27071  </td><td style=\"text-align: right;\">-0.154104  </td><td style=\"text-align: right;\">-0.780055 </td><td style=\"text-align: right;\"> 0.750137</td><td style=\"text-align: right;\">-0.257237 </td><td style=\"text-align: right;\"> 0.0345074</td><td style=\"text-align: right;\"> 0.00516777</td><td style=\"text-align: right;\">    4.99</td><td>false  </td></tr>\n",
       "<tr><td style=\"text-align: right;\">-0.644269</td><td style=\"text-align: right;\"> 1.41796  </td><td style=\"text-align: right;\"> 1.07438  </td><td style=\"text-align: right;\">-0.492199 </td><td style=\"text-align: right;\"> 0.948934 </td><td style=\"text-align: right;\"> 0.428118 </td><td style=\"text-align: right;\"> 1.12063 </td><td style=\"text-align: right;\">-3.80786  </td><td style=\"text-align: right;\"> 0.615375</td><td style=\"text-align: right;\"> 1.24938  </td><td style=\"text-align: right;\">-0.619468</td><td style=\"text-align: right;\"> 0.291474</td><td style=\"text-align: right;\"> 1.75796  </td><td style=\"text-align: right;\">-1.32387  </td><td style=\"text-align: right;\"> 0.686133 </td><td style=\"text-align: right;\">-0.076127 </td><td style=\"text-align: right;\">-1.22213   </td><td style=\"text-align: right;\">-0.358222 </td><td style=\"text-align: right;\"> 0.324505 </td><td style=\"text-align: right;\">-0.156742 </td><td style=\"text-align: right;\"> 1.94347  </td><td style=\"text-align: right;\">-1.01545  </td><td style=\"text-align: right;\"> 0.0575035 </td><td style=\"text-align: right;\">-0.649709 </td><td style=\"text-align: right;\">-0.415267</td><td style=\"text-align: right;\">-0.0516343</td><td style=\"text-align: right;\">-1.20692  </td><td style=\"text-align: right;\">-1.08534   </td><td style=\"text-align: right;\">   40.8 </td><td>false  </td></tr>\n",
       "<tr><td style=\"text-align: right;\">-0.894286</td><td style=\"text-align: right;\"> 0.286157 </td><td style=\"text-align: right;\">-0.113192 </td><td style=\"text-align: right;\">-0.271526 </td><td style=\"text-align: right;\"> 2.6696   </td><td style=\"text-align: right;\"> 3.72182  </td><td style=\"text-align: right;\"> 0.370145</td><td style=\"text-align: right;\"> 0.851084 </td><td style=\"text-align: right;\">-0.392048</td><td style=\"text-align: right;\">-0.41043  </td><td style=\"text-align: right;\">-0.705117</td><td style=\"text-align: right;\">-0.110452</td><td style=\"text-align: right;\">-0.286254 </td><td style=\"text-align: right;\"> 0.0743554</td><td style=\"text-align: right;\">-0.328783 </td><td style=\"text-align: right;\">-0.210077 </td><td style=\"text-align: right;\">-0.499768  </td><td style=\"text-align: right;\"> 0.118765 </td><td style=\"text-align: right;\"> 0.570328 </td><td style=\"text-align: right;\"> 0.0527357</td><td style=\"text-align: right;\">-0.0734251</td><td style=\"text-align: right;\">-0.268092 </td><td style=\"text-align: right;\">-0.204233  </td><td style=\"text-align: right;\"> 1.01159  </td><td style=\"text-align: right;\"> 0.373205</td><td style=\"text-align: right;\">-0.384157 </td><td style=\"text-align: right;\"> 0.0117474</td><td style=\"text-align: right;\"> 0.142404  </td><td style=\"text-align: right;\">   93.2 </td><td>false  </td></tr>\n",
       "<tr><td style=\"text-align: right;\"> 1.44904 </td><td style=\"text-align: right;\">-1.17634  </td><td style=\"text-align: right;\"> 0.91386  </td><td style=\"text-align: right;\">-1.37567  </td><td style=\"text-align: right;\">-1.97138  </td><td style=\"text-align: right;\">-0.629152 </td><td style=\"text-align: right;\">-1.42324 </td><td style=\"text-align: right;\"> 0.0484559</td><td style=\"text-align: right;\">-1.72041 </td><td style=\"text-align: right;\"> 1.62666  </td><td style=\"text-align: right;\"> 1.19964 </td><td style=\"text-align: right;\">-0.67144 </td><td style=\"text-align: right;\">-0.513947 </td><td style=\"text-align: right;\">-0.095045 </td><td style=\"text-align: right;\"> 0.23093  </td><td style=\"text-align: right;\"> 0.0319675</td><td style=\"text-align: right;\"> 0.253415  </td><td style=\"text-align: right;\"> 0.854344 </td><td style=\"text-align: right;\">-0.221365 </td><td style=\"text-align: right;\">-0.387226 </td><td style=\"text-align: right;\">-0.0093019</td><td style=\"text-align: right;\"> 0.313894 </td><td style=\"text-align: right;\"> 0.0277402 </td><td style=\"text-align: right;\"> 0.500512 </td><td style=\"text-align: right;\"> 0.251367</td><td style=\"text-align: right;\">-0.129478 </td><td style=\"text-align: right;\"> 0.0428499</td><td style=\"text-align: right;\"> 0.0162533 </td><td style=\"text-align: right;\">    7.8 </td><td>false  </td></tr>\n",
       "<tr><td style=\"text-align: right;\"> 0.384978</td><td style=\"text-align: right;\"> 0.616109 </td><td style=\"text-align: right;\">-0.8743   </td><td style=\"text-align: right;\">-0.0940186</td><td style=\"text-align: right;\"> 2.92458  </td><td style=\"text-align: right;\"> 3.31703  </td><td style=\"text-align: right;\"> 0.470455</td><td style=\"text-align: right;\"> 0.538247 </td><td style=\"text-align: right;\">-0.558895</td><td style=\"text-align: right;\"> 0.309755 </td><td style=\"text-align: right;\">-0.259116</td><td style=\"text-align: right;\">-0.326143</td><td style=\"text-align: right;\">-0.0900467</td><td style=\"text-align: right;\"> 0.362832 </td><td style=\"text-align: right;\"> 0.928904 </td><td style=\"text-align: right;\">-0.129487 </td><td style=\"text-align: right;\">-0.809979  </td><td style=\"text-align: right;\"> 0.359985 </td><td style=\"text-align: right;\"> 0.707664 </td><td style=\"text-align: right;\"> 0.125992 </td><td style=\"text-align: right;\"> 0.0499237</td><td style=\"text-align: right;\"> 0.238422 </td><td style=\"text-align: right;\"> 0.00912987</td><td style=\"text-align: right;\"> 0.99671  </td><td style=\"text-align: right;\">-0.767315</td><td style=\"text-align: right;\">-0.492208 </td><td style=\"text-align: right;\"> 0.0424724</td><td style=\"text-align: right;\">-0.0543374 </td><td style=\"text-align: right;\">    9.99</td><td>false  </td></tr>\n",
       "</tbody>\n",
       "</table>"
      ]
     },
     "metadata": {},
     "output_type": "display_data"
    },
    {
     "data": {
      "text/plain": []
     },
     "execution_count": 28,
     "metadata": {},
     "output_type": "execute_result"
    }
   ],
   "source": [
    "train"
   ]
  },
  {
   "cell_type": "code",
   "execution_count": 17,
   "metadata": {},
   "outputs": [
    {
     "data": {
      "text/html": [
       "<table>\n",
       "<thead>\n",
       "<tr><th style=\"text-align: right;\">       V1</th><th style=\"text-align: right;\">       V2</th><th style=\"text-align: right;\">        V3</th><th style=\"text-align: right;\">       V4</th><th style=\"text-align: right;\">       V5</th><th style=\"text-align: right;\">        V6</th><th style=\"text-align: right;\">        V7</th><th style=\"text-align: right;\">        V8</th><th style=\"text-align: right;\">        V9</th><th style=\"text-align: right;\">       V10</th><th style=\"text-align: right;\">       V11</th><th style=\"text-align: right;\">       V12</th><th style=\"text-align: right;\">      V13</th><th style=\"text-align: right;\">       V14</th><th style=\"text-align: right;\">      V15</th><th style=\"text-align: right;\">      V16</th><th style=\"text-align: right;\">        V17</th><th style=\"text-align: right;\">      V18</th><th style=\"text-align: right;\">      V19</th><th style=\"text-align: right;\">        V20</th><th style=\"text-align: right;\">       V21</th><th style=\"text-align: right;\">       V22</th><th style=\"text-align: right;\">       V23</th><th style=\"text-align: right;\">       V24</th><th style=\"text-align: right;\">       V25</th><th style=\"text-align: right;\">       V26</th><th style=\"text-align: right;\">       V27</th><th style=\"text-align: right;\">        V28</th><th style=\"text-align: right;\">  Amount</th><th style=\"text-align: right;\">  Class</th></tr>\n",
       "</thead>\n",
       "<tbody>\n",
       "<tr><td style=\"text-align: right;\">-1.35835 </td><td style=\"text-align: right;\">-1.34016 </td><td style=\"text-align: right;\"> 1.77321  </td><td style=\"text-align: right;\"> 0.37978 </td><td style=\"text-align: right;\">-0.503198</td><td style=\"text-align: right;\"> 1.8005   </td><td style=\"text-align: right;\"> 0.791461 </td><td style=\"text-align: right;\"> 0.247676 </td><td style=\"text-align: right;\">-1.51465  </td><td style=\"text-align: right;\"> 0.207643 </td><td style=\"text-align: right;\"> 0.624501 </td><td style=\"text-align: right;\"> 0.0660837</td><td style=\"text-align: right;\"> 0.717293</td><td style=\"text-align: right;\">-0.165946 </td><td style=\"text-align: right;\"> 2.34586 </td><td style=\"text-align: right;\">-2.89008 </td><td style=\"text-align: right;\"> 1.10997   </td><td style=\"text-align: right;\">-0.121359</td><td style=\"text-align: right;\">-2.26186 </td><td style=\"text-align: right;\"> 0.52498   </td><td style=\"text-align: right;\"> 0.247998 </td><td style=\"text-align: right;\"> 0.771679 </td><td style=\"text-align: right;\"> 0.909412 </td><td style=\"text-align: right;\">-0.689281 </td><td style=\"text-align: right;\">-0.327642 </td><td style=\"text-align: right;\">-0.139097 </td><td style=\"text-align: right;\">-0.0553528</td><td style=\"text-align: right;\">-0.0597518 </td><td style=\"text-align: right;\">  378.66</td><td style=\"text-align: right;\">      0</td></tr>\n",
       "<tr><td style=\"text-align: right;\">-0.338262</td><td style=\"text-align: right;\"> 1.11959 </td><td style=\"text-align: right;\"> 1.04437  </td><td style=\"text-align: right;\">-0.222187</td><td style=\"text-align: right;\"> 0.499361</td><td style=\"text-align: right;\">-0.246761 </td><td style=\"text-align: right;\"> 0.651583 </td><td style=\"text-align: right;\"> 0.0695386</td><td style=\"text-align: right;\">-0.736727 </td><td style=\"text-align: right;\">-0.366846 </td><td style=\"text-align: right;\"> 1.01761  </td><td style=\"text-align: right;\"> 0.83639  </td><td style=\"text-align: right;\"> 1.00684 </td><td style=\"text-align: right;\">-0.443523 </td><td style=\"text-align: right;\"> 0.150219</td><td style=\"text-align: right;\"> 0.739453</td><td style=\"text-align: right;\">-0.54098   </td><td style=\"text-align: right;\"> 0.476677</td><td style=\"text-align: right;\"> 0.451773</td><td style=\"text-align: right;\"> 0.203711  </td><td style=\"text-align: right;\">-0.246914 </td><td style=\"text-align: right;\">-0.633753 </td><td style=\"text-align: right;\">-0.120794 </td><td style=\"text-align: right;\">-0.38505  </td><td style=\"text-align: right;\">-0.069733 </td><td style=\"text-align: right;\"> 0.0941988</td><td style=\"text-align: right;\"> 0.246219 </td><td style=\"text-align: right;\"> 0.0830756 </td><td style=\"text-align: right;\">    3.68</td><td style=\"text-align: right;\">      0</td></tr>\n",
       "<tr><td style=\"text-align: right;\"> 0.694885</td><td style=\"text-align: right;\">-1.36182 </td><td style=\"text-align: right;\"> 1.02922  </td><td style=\"text-align: right;\"> 0.834159</td><td style=\"text-align: right;\">-1.19121 </td><td style=\"text-align: right;\"> 1.30911  </td><td style=\"text-align: right;\">-0.878586 </td><td style=\"text-align: right;\"> 0.44529  </td><td style=\"text-align: right;\">-0.446196 </td><td style=\"text-align: right;\"> 0.568521 </td><td style=\"text-align: right;\"> 1.01915  </td><td style=\"text-align: right;\"> 1.29833  </td><td style=\"text-align: right;\"> 0.42048 </td><td style=\"text-align: right;\">-0.372651 </td><td style=\"text-align: right;\">-0.80798 </td><td style=\"text-align: right;\">-2.04456 </td><td style=\"text-align: right;\"> 0.515663  </td><td style=\"text-align: right;\"> 0.625847</td><td style=\"text-align: right;\">-1.30041 </td><td style=\"text-align: right;\">-0.138334  </td><td style=\"text-align: right;\">-0.295583 </td><td style=\"text-align: right;\">-0.571955 </td><td style=\"text-align: right;\">-0.0508807</td><td style=\"text-align: right;\">-0.304215 </td><td style=\"text-align: right;\"> 0.072001 </td><td style=\"text-align: right;\">-0.422234 </td><td style=\"text-align: right;\"> 0.0865534</td><td style=\"text-align: right;\"> 0.0634986 </td><td style=\"text-align: right;\">  231.71</td><td style=\"text-align: right;\">      0</td></tr>\n",
       "<tr><td style=\"text-align: right;\">-1.45219 </td><td style=\"text-align: right;\"> 1.76512 </td><td style=\"text-align: right;\"> 0.611669 </td><td style=\"text-align: right;\"> 1.17682 </td><td style=\"text-align: right;\">-0.44598 </td><td style=\"text-align: right;\"> 0.246826 </td><td style=\"text-align: right;\">-0.257566 </td><td style=\"text-align: right;\"> 1.09247  </td><td style=\"text-align: right;\">-0.607524 </td><td style=\"text-align: right;\"> 0.0471556</td><td style=\"text-align: right;\"> 0.783727 </td><td style=\"text-align: right;\"> 1.09639  </td><td style=\"text-align: right;\">-0.268094</td><td style=\"text-align: right;\"> 0.768648 </td><td style=\"text-align: right;\">-0.524367</td><td style=\"text-align: right;\">-0.808816</td><td style=\"text-align: right;\"> 0.710386  </td><td style=\"text-align: right;\">-0.118369</td><td style=\"text-align: right;\"> 0.979288</td><td style=\"text-align: right;\"> 0.00871333</td><td style=\"text-align: right;\"> 0.0822798</td><td style=\"text-align: right;\"> 0.325782 </td><td style=\"text-align: right;\">-0.0691074</td><td style=\"text-align: right;\"> 0.020962 </td><td style=\"text-align: right;\">-0.0446685</td><td style=\"text-align: right;\">-0.243441 </td><td style=\"text-align: right;\"> 0.14918  </td><td style=\"text-align: right;\"> 0.120557  </td><td style=\"text-align: right;\">    1.8 </td><td style=\"text-align: right;\">      0</td></tr>\n",
       "<tr><td style=\"text-align: right;\"> 1.11088 </td><td style=\"text-align: right;\"> 0.168717</td><td style=\"text-align: right;\"> 0.517144 </td><td style=\"text-align: right;\"> 1.32541 </td><td style=\"text-align: right;\">-0.191573</td><td style=\"text-align: right;\"> 0.0195037</td><td style=\"text-align: right;\">-0.0318491</td><td style=\"text-align: right;\"> 0.11762  </td><td style=\"text-align: right;\"> 0.0176647</td><td style=\"text-align: right;\"> 0.0448648</td><td style=\"text-align: right;\"> 1.34507  </td><td style=\"text-align: right;\"> 1.28634  </td><td style=\"text-align: right;\">-0.252267</td><td style=\"text-align: right;\"> 0.274458 </td><td style=\"text-align: right;\">-0.810394</td><td style=\"text-align: right;\">-0.587005</td><td style=\"text-align: right;\"> 0.0874511 </td><td style=\"text-align: right;\">-0.550474</td><td style=\"text-align: right;\">-0.154749</td><td style=\"text-align: right;\">-0.19012   </td><td style=\"text-align: right;\">-0.0377087</td><td style=\"text-align: right;\"> 0.0957015</td><td style=\"text-align: right;\">-0.0481976</td><td style=\"text-align: right;\"> 0.232115 </td><td style=\"text-align: right;\"> 0.606201 </td><td style=\"text-align: right;\">-0.342097 </td><td style=\"text-align: right;\"> 0.0367696</td><td style=\"text-align: right;\"> 0.00747996</td><td style=\"text-align: right;\">    6.54</td><td style=\"text-align: right;\">      0</td></tr>\n",
       "<tr><td style=\"text-align: right;\">-1.00493 </td><td style=\"text-align: right;\">-0.985978</td><td style=\"text-align: right;\">-0.0380388</td><td style=\"text-align: right;\"> 3.71006 </td><td style=\"text-align: right;\">-6.63195 </td><td style=\"text-align: right;\"> 5.1221   </td><td style=\"text-align: right;\"> 4.37169  </td><td style=\"text-align: right;\">-2.00687  </td><td style=\"text-align: right;\">-0.278736 </td><td style=\"text-align: right;\">-0.230873 </td><td style=\"text-align: right;\"> 0.145155 </td><td style=\"text-align: right;\">-0.0631561</td><td style=\"text-align: right;\">-0.799585</td><td style=\"text-align: right;\">-0.341956 </td><td style=\"text-align: right;\">-0.93053 </td><td style=\"text-align: right;\"> 0.51051 </td><td style=\"text-align: right;\"> 0.0924281 </td><td style=\"text-align: right;\"> 0.823984</td><td style=\"text-align: right;\"> 1.1904  </td><td style=\"text-align: right;\">-0.00197998</td><td style=\"text-align: right;\"> 1.39341  </td><td style=\"text-align: right;\">-0.381671 </td><td style=\"text-align: right;\"> 0.969719 </td><td style=\"text-align: right;\"> 0.0194448</td><td style=\"text-align: right;\"> 0.570923 </td><td style=\"text-align: right;\"> 0.333278 </td><td style=\"text-align: right;\"> 0.857373 </td><td style=\"text-align: right;\">-0.0755382 </td><td style=\"text-align: right;\"> 1402.95</td><td style=\"text-align: right;\">      0</td></tr>\n",
       "<tr><td style=\"text-align: right;\"> 0.158332</td><td style=\"text-align: right;\"> 0.872687</td><td style=\"text-align: right;\"> 0.965525 </td><td style=\"text-align: right;\"> 1.80213 </td><td style=\"text-align: right;\"> 0.139022</td><td style=\"text-align: right;\"> 0.110863 </td><td style=\"text-align: right;\"> 0.559079 </td><td style=\"text-align: right;\">-0.0290709</td><td style=\"text-align: right;\">-0.394912 </td><td style=\"text-align: right;\"> 0.0326745</td><td style=\"text-align: right;\">-0.500919 </td><td style=\"text-align: right;\"> 0.631916 </td><td style=\"text-align: right;\"> 0.754694</td><td style=\"text-align: right;\">-0.0476555</td><td style=\"text-align: right;\"> 0.348218</td><td style=\"text-align: right;\">-1.49353 </td><td style=\"text-align: right;\"> 0.757231  </td><td style=\"text-align: right;\">-0.684369</td><td style=\"text-align: right;\"> 1.30336 </td><td style=\"text-align: right;\"> 0.0898378 </td><td style=\"text-align: right;\"> 0.11627  </td><td style=\"text-align: right;\"> 0.691685 </td><td style=\"text-align: right;\"> 0.121113 </td><td style=\"text-align: right;\"> 0.116142 </td><td style=\"text-align: right;\">-1.11273  </td><td style=\"text-align: right;\">-0.303369 </td><td style=\"text-align: right;\"> 0.327533 </td><td style=\"text-align: right;\"> 0.255621  </td><td style=\"text-align: right;\">   21.76</td><td style=\"text-align: right;\">      0</td></tr>\n",
       "<tr><td style=\"text-align: right;\">-0.249361</td><td style=\"text-align: right;\"> 0.399227</td><td style=\"text-align: right;\"> 0.0680093</td><td style=\"text-align: right;\">-1.06062 </td><td style=\"text-align: right;\"> 2.4104  </td><td style=\"text-align: right;\"> 3.73657  </td><td style=\"text-align: right;\"> 0.316446 </td><td style=\"text-align: right;\"> 0.672296 </td><td style=\"text-align: right;\"> 0.0151402</td><td style=\"text-align: right;\">-0.269502 </td><td style=\"text-align: right;\">-0.49512  </td><td style=\"text-align: right;\">-0.161506 </td><td style=\"text-align: right;\">-0.274214</td><td style=\"text-align: right;\">-0.276191 </td><td style=\"text-align: right;\">-0.172409</td><td style=\"text-align: right;\">-0.118962</td><td style=\"text-align: right;\">-0.550002  </td><td style=\"text-align: right;\">-0.148052</td><td style=\"text-align: right;\"> 0.771762</td><td style=\"text-align: right;\"> 0.107676  </td><td style=\"text-align: right;\">-0.257663 </td><td style=\"text-align: right;\">-0.616762 </td><td style=\"text-align: right;\">-0.156669 </td><td style=\"text-align: right;\"> 1.03113  </td><td style=\"text-align: right;\"> 0.120617 </td><td style=\"text-align: right;\"> 0.310494 </td><td style=\"text-align: right;\">-0.288299 </td><td style=\"text-align: right;\">-0.223964  </td><td style=\"text-align: right;\">   32.51</td><td style=\"text-align: right;\">      0</td></tr>\n",
       "<tr><td style=\"text-align: right;\">-0.522666</td><td style=\"text-align: right;\"> 1.00992 </td><td style=\"text-align: right;\"> 0.27647  </td><td style=\"text-align: right;\"> 1.47529 </td><td style=\"text-align: right;\">-0.707013</td><td style=\"text-align: right;\"> 0.355243 </td><td style=\"text-align: right;\"> 1.55985  </td><td style=\"text-align: right;\">-0.399579 </td><td style=\"text-align: right;\">-0.479813 </td><td style=\"text-align: right;\"> 0.516352 </td><td style=\"text-align: right;\"> 0.0343305</td><td style=\"text-align: right;\"> 0.589226 </td><td style=\"text-align: right;\"> 1.42691 </td><td style=\"text-align: right;\"> 0.0205102</td><td style=\"text-align: right;\"> 1.65134 </td><td style=\"text-align: right;\">-0.961343</td><td style=\"text-align: right;\"> 0.24636   </td><td style=\"text-align: right;\">-0.407537</td><td style=\"text-align: right;\"> 0.917399</td><td style=\"text-align: right;\">-0.013016  </td><td style=\"text-align: right;\"> 0.172401 </td><td style=\"text-align: right;\"> 1.01154  </td><td style=\"text-align: right;\"> 0.0696663</td><td style=\"text-align: right;\"> 0.15782  </td><td style=\"text-align: right;\">-1.10922  </td><td style=\"text-align: right;\">-0.302369 </td><td style=\"text-align: right;\"> 0.31817  </td><td style=\"text-align: right;\"> 0.31691   </td><td style=\"text-align: right;\">  243.66</td><td style=\"text-align: right;\">      0</td></tr>\n",
       "<tr><td style=\"text-align: right;\"> 1.19784 </td><td style=\"text-align: right;\"> 0.236828</td><td style=\"text-align: right;\"> 0.509605 </td><td style=\"text-align: right;\"> 0.657659</td><td style=\"text-align: right;\">-0.365488</td><td style=\"text-align: right;\">-0.745101 </td><td style=\"text-align: right;\"> 0.0794974</td><td style=\"text-align: right;\">-0.130536 </td><td style=\"text-align: right;\">-0.0522631</td><td style=\"text-align: right;\">-0.110058 </td><td style=\"text-align: right;\"> 0.307131 </td><td style=\"text-align: right;\"> 0.670664 </td><td style=\"text-align: right;\"> 0.437974</td><td style=\"text-align: right;\"> 0.269026 </td><td style=\"text-align: right;\"> 1.12742 </td><td style=\"text-align: right;\">-0.196923</td><td style=\"text-align: right;\"> 0.00770367</td><td style=\"text-align: right;\">-1.12264 </td><td style=\"text-align: right;\">-0.590918</td><td style=\"text-align: right;\">-0.120981  </td><td style=\"text-align: right;\">-0.149876 </td><td style=\"text-align: right;\">-0.374211 </td><td style=\"text-align: right;\"> 0.145516 </td><td style=\"text-align: right;\"> 0.414984 </td><td style=\"text-align: right;\"> 0.212156 </td><td style=\"text-align: right;\"> 0.181724 </td><td style=\"text-align: right;\">-0.0164021</td><td style=\"text-align: right;\"> 0.0159942 </td><td style=\"text-align: right;\">    3.63</td><td style=\"text-align: right;\">      0</td></tr>\n",
       "</tbody>\n",
       "</table>"
      ]
     },
     "metadata": {},
     "output_type": "display_data"
    },
    {
     "data": {
      "text/plain": []
     },
     "execution_count": 17,
     "metadata": {},
     "output_type": "execute_result"
    }
   ],
   "source": [
    "test"
   ]
  },
  {
   "cell_type": "code",
   "execution_count": 29,
   "metadata": {},
   "outputs": [
    {
     "name": "stdout",
     "output_type": "stream",
     "text": [
      "Rows:228085\n",
      "Cols:30\n",
      "\n",
      "\n"
     ]
    },
    {
     "data": {
      "text/html": [
       "<table>\n",
       "<thead>\n",
       "<tr><th>       </th><th>v1                   </th><th>v2                   </th><th>v3                    </th><th>v4                  </th><th>v5                   </th><th>v6                    </th><th>v7                  </th><th>v8                    </th><th>v9                    </th><th>v10                   </th><th>v11                  </th><th>v12                    </th><th>v13                  </th><th>v14                  </th><th>v15                  </th><th>v16                   </th><th>v17                   </th><th>v18                  </th><th>v19                  </th><th>v20                  </th><th>v21                 </th><th>v22                   </th><th>v23                  </th><th>v24                    </th><th>v25                   </th><th>v26                   </th><th>v27                   </th><th>v28                   </th><th>amount            </th><th>class  </th></tr>\n",
       "</thead>\n",
       "<tbody>\n",
       "<tr><td>type   </td><td>real                 </td><td>real                 </td><td>real                  </td><td>real                </td><td>real                 </td><td>real                  </td><td>real                </td><td>real                  </td><td>real                  </td><td>real                  </td><td>real                 </td><td>real                   </td><td>real                 </td><td>real                 </td><td>real                 </td><td>real                  </td><td>real                  </td><td>real                 </td><td>real                 </td><td>real                 </td><td>real                </td><td>real                  </td><td>real                 </td><td>real                   </td><td>real                  </td><td>real                  </td><td>real                  </td><td>real                  </td><td>real              </td><td>enum   </td></tr>\n",
       "<tr><td>mins   </td><td>-56.407509631329     </td><td>-72.7157275629303    </td><td>-48.3255893623954     </td><td>-5.68317119816995   </td><td>-113.743306711146    </td><td>-26.1605059358433     </td><td>-43.5572415712451   </td><td>-73.2167184552674     </td><td>-13.4340663182301     </td><td>-24.5882624372475     </td><td>-4.68293054765276    </td><td>-18.6837146333443      </td><td>-5.79188120632084    </td><td>-18.4937733551053    </td><td>-4.49894467676621    </td><td>-14.1298545174931     </td><td>-24.0190985475902     </td><td>-9.49874592104677    </td><td>-7.21352743017759    </td><td>-54.497720494566     </td><td>-34.8303821448146   </td><td>-10.933143697655      </td><td>-44.8077352037913    </td><td>-2.83662691870341      </td><td>-10.2953970749851     </td><td>-2.60455055280817     </td><td>-22.5656793207827     </td><td>-15.4300839055349     </td><td>0.0               </td><td>       </td></tr>\n",
       "<tr><td>mean   </td><td>0.0003425479024409942</td><td>0.0001912941403445812</td><td>-0.0015417302177650161</td><td>7.85673926133022e-05</td><td>0.0018752150791510314</td><td>-0.0009724616233179311</td><td>0.001800623188605351</td><td>-0.0019126373005206466</td><td>-0.0008140837578419469</td><td>-0.0014191671096708144</td><td>0.0005446620714555658</td><td>-0.00022045196358504038</td><td>0.0003266726258374502</td><td>0.0005448101278786836</td><td>0.0011720111661665403</td><td>0.00016847251844566595</td><td>-0.0015644843437241536</td><td>0.0011830679975866976</td><td>0.0003099466659319438</td><td>0.0009326522477110018</td><td>0.000345420959656539</td><td>2.5446809217192515e-05</td><td>0.0008110499430632195</td><td>-0.00013123024906424883</td><td>-0.0001911922736466434</td><td>-0.0002704193757234908</td><td>0.00021044875381374923</td><td>-9.509768922746815e-05</td><td>88.5580782164544  </td><td>       </td></tr>\n",
       "<tr><td>maxs   </td><td>2.45188848995359     </td><td>22.0577289904909     </td><td>9.38255843282114      </td><td>16.8753440335975    </td><td>34.8016658766686     </td><td>73.3016255459646      </td><td>120.589493945238    </td><td>20.0072083651213      </td><td>15.5949946071278      </td><td>23.7451361206545      </td><td>11.6692047358121     </td><td>7.8483920756446        </td><td>7.12688295859376     </td><td>10.5267660517847     </td><td>8.87774159774277     </td><td>17.3151115176278      </td><td>9.25352625047285      </td><td>5.04106918541184     </td><td>5.59197142733558     </td><td>39.4209042482199     </td><td>27.2028391573154    </td><td>10.5030900899454      </td><td>22.5284116897749     </td><td>4.58454913689817       </td><td>7.51958867870916      </td><td>3.5173456116238       </td><td>31.6121981061363      </td><td>33.8478078188831      </td><td>25691.16          </td><td>       </td></tr>\n",
       "<tr><td>sigma  </td><td>1.9568696995339239   </td><td>1.6530368923444438   </td><td>1.5181873927583107    </td><td>1.4146125656903221  </td><td>1.38437406154578     </td><td>1.3338471779421013    </td><td>1.242976291913186   </td><td>1.195448883031074     </td><td>1.0976333235084945    </td><td>1.0887818201114694    </td><td>1.02093444342762     </td><td>0.9990887688729032     </td><td>0.9946389174430716   </td><td>0.9584719133565871   </td><td>0.913527448503868    </td><td>0.8761370242035362    </td><td>0.8507867487571946    </td><td>0.8380630937427926   </td><td>0.8136338850761443   </td><td>0.7718180988868544   </td><td>0.735055835104381   </td><td>0.7268156890682451    </td><td>0.619708800155376    </td><td>0.6056622351901054     </td><td>0.521065821433952     </td><td>0.4820638502907112    </td><td>0.4052992640958507    </td><td>0.32893654714664317   </td><td>252.65973468169724</td><td>       </td></tr>\n",
       "<tr><td>zeros  </td><td>0                    </td><td>0                    </td><td>0                     </td><td>0                   </td><td>0                    </td><td>0                     </td><td>0                   </td><td>0                     </td><td>0                     </td><td>0                     </td><td>0                    </td><td>0                      </td><td>0                    </td><td>0                    </td><td>0                    </td><td>0                     </td><td>0                     </td><td>0                    </td><td>0                    </td><td>0                    </td><td>0                   </td><td>0                     </td><td>0                    </td><td>0                      </td><td>0                     </td><td>0                     </td><td>0                     </td><td>0                     </td><td>1444              </td><td>       </td></tr>\n",
       "<tr><td>missing</td><td>0                    </td><td>0                    </td><td>0                     </td><td>0                   </td><td>0                    </td><td>0                     </td><td>0                   </td><td>0                     </td><td>0                     </td><td>0                     </td><td>0                    </td><td>0                      </td><td>0                    </td><td>0                    </td><td>0                    </td><td>0                     </td><td>0                     </td><td>0                    </td><td>0                    </td><td>0                    </td><td>0                   </td><td>0                     </td><td>0                    </td><td>0                      </td><td>0                     </td><td>0                     </td><td>0                     </td><td>0                     </td><td>0                 </td><td>0      </td></tr>\n",
       "<tr><td>0      </td><td>-1.3598071336738     </td><td>-0.0727811733098497  </td><td>2.53634673796914      </td><td>1.37815522427443    </td><td>-0.338320769942518   </td><td>0.462387777762292     </td><td>0.239598554061257   </td><td>0.0986979012610507    </td><td>0.363786969611213     </td><td>0.0907941719789316    </td><td>-0.551599533260813   </td><td>-0.617800855762348     </td><td>-0.991389847235408   </td><td>-0.311169353699879   </td><td>1.46817697209427     </td><td>-0.470400525259478    </td><td>0.207971241929242     </td><td>0.0257905801985591   </td><td>0.403992960255733    </td><td>0.251412098239705    </td><td>-0.018306777944153  </td><td>0.277837575558899     </td><td>-0.110473910188767   </td><td>0.0669280749146731     </td><td>0.128539358273528     </td><td>-0.189114843888824    </td><td>0.133558376740387     </td><td>-0.0210530534538215   </td><td>149.62            </td><td>false  </td></tr>\n",
       "<tr><td>1      </td><td>1.19185711131486     </td><td>0.26615071205963     </td><td>0.16648011335321      </td><td>0.448154078460911   </td><td>0.0600176492822243   </td><td>-0.0823608088155687   </td><td>-0.0788029833323113 </td><td>0.0851016549148104    </td><td>-0.255425128109186    </td><td>-0.166974414004614    </td><td>1.61272666105479     </td><td>1.06523531137287       </td><td>0.48909501589608     </td><td>-0.143772296441519   </td><td>0.635558093258208    </td><td>0.463917041022171     </td><td>-0.114804663102346    </td><td>-0.183361270123994   </td><td>-0.145783041325259   </td><td>-0.0690831352230203  </td><td>-0.225775248033138  </td><td>-0.638671952771851    </td><td>0.101288021253234    </td><td>-0.339846475529127     </td><td>0.167170404418143     </td><td>0.125894532368176     </td><td>-0.00898309914322813  </td><td>0.0147241691924927    </td><td>2.69              </td><td>false  </td></tr>\n",
       "<tr><td>2      </td><td>-0.966271711572087   </td><td>-0.185226008082898   </td><td>1.79299333957872      </td><td>-0.863291275036453  </td><td>-0.0103088796030823  </td><td>1.24720316752486      </td><td>0.23760893977178    </td><td>0.377435874652262     </td><td>-1.38702406270197     </td><td>-0.0549519224713749   </td><td>-0.226487263835401   </td><td>0.178228225877303      </td><td>0.507756869957169    </td><td>-0.28792374549456    </td><td>-0.631418117709045   </td><td>-1.0596472454325      </td><td>-0.684092786345479    </td><td>1.96577500349538     </td><td>-1.2326219700892     </td><td>-0.208037781160366   </td><td>-0.108300452035545  </td><td>0.00527359678253453   </td><td>-0.190320518742841   </td><td>-1.17557533186321      </td><td>0.647376034602038     </td><td>-0.221928844458407    </td><td>0.0627228487293033    </td><td>0.0614576285006353    </td><td>123.5             </td><td>false  </td></tr>\n",
       "<tr><td>3      </td><td>-1.15823309349523    </td><td>0.877736754848451    </td><td>1.548717846511        </td><td>0.403033933955121   </td><td>-0.407193377311653   </td><td>0.0959214624684256    </td><td>0.592940745385545   </td><td>-0.270532677192282    </td><td>0.817739308235294     </td><td>0.753074431976354     </td><td>-0.822842877946363   </td><td>0.53819555014995       </td><td>1.3458515932154      </td><td>-1.11966983471731    </td><td>0.175121130008994    </td><td>-0.451449182813529    </td><td>-0.237033239362776    </td><td>-0.0381947870352842  </td><td>0.803486924960175    </td><td>0.408542360392758    </td><td>-0.00943069713232919</td><td>0.79827849458971      </td><td>-0.137458079619063   </td><td>0.141266983824769      </td><td>-0.206009587619756    </td><td>0.502292224181569     </td><td>0.219422229513348     </td><td>0.215153147499206     </td><td>69.99             </td><td>false  </td></tr>\n",
       "<tr><td>4      </td><td>-0.425965884412454   </td><td>0.960523044882985    </td><td>1.14110934232219      </td><td>-0.168252079760302  </td><td>0.42098688077219     </td><td>-0.0297275516639742   </td><td>0.476200948720027   </td><td>0.260314333074874     </td><td>-0.56867137571251     </td><td>-0.371407196834471    </td><td>1.34126198001957     </td><td>0.359893837038039      </td><td>-0.358090652573631   </td><td>-0.137133700217612   </td><td>0.517616806555742    </td><td>0.401725895589603     </td><td>-0.0581328233640131   </td><td>0.0686531494425432   </td><td>-0.0331937877876282  </td><td>0.0849676720682049   </td><td>-0.208253514656728  </td><td>-0.559824796253248    </td><td>-0.0263976679795373  </td><td>-0.371426583174346     </td><td>-0.232793816737034    </td><td>0.105914779097957     </td><td>0.253844224739337     </td><td>0.0810802569229443    </td><td>3.67              </td><td>false  </td></tr>\n",
       "<tr><td>5      </td><td>1.22965763450793     </td><td>0.141003507049326    </td><td>0.0453707735899449    </td><td>1.20261273673594    </td><td>0.191880988597645    </td><td>0.272708122899098     </td><td>-0.00515900288250983</td><td>0.0812129398830894    </td><td>0.464959994783886     </td><td>-0.0992543211289237   </td><td>-1.41690724314928    </td><td>-0.153825826253651     </td><td>-0.75106271556262    </td><td>0.16737196252175     </td><td>0.0501435942254188   </td><td>-0.443586797916727    </td><td>0.00282051247234708   </td><td>-0.61198733994012    </td><td>-0.0455750446637976  </td><td>-0.21963255278686    </td><td>-0.167716265815783  </td><td>-0.270709726172363    </td><td>-0.154103786809305   </td><td>-0.780055415004671     </td><td>0.75013693580659      </td><td>-0.257236845917139    </td><td>0.0345074297438413    </td><td>0.00516776890624916   </td><td>4.99              </td><td>false  </td></tr>\n",
       "<tr><td>6      </td><td>-0.644269442348146   </td><td>1.41796354547385     </td><td>1.0743803763556       </td><td>-0.492199018495015  </td><td>0.948934094764157    </td><td>0.428118462833089     </td><td>1.12063135838353    </td><td>-3.80786423873589     </td><td>0.615374730667027     </td><td>1.24937617815176      </td><td>-0.619467796121913   </td><td>0.291474353088705      </td><td>1.75796421396042     </td><td>-1.32386521970526    </td><td>0.686132504394383    </td><td>-0.0761269994382006   </td><td>-1.2221273453247      </td><td>-0.358221569869078   </td><td>0.324504731321494    </td><td>-0.156741852488285   </td><td>1.94346533978412    </td><td>-1.01545470979971     </td><td>0.057503529867291    </td><td>-0.649709005559993     </td><td>-0.415266566234811    </td><td>-0.0516342969262494   </td><td>-1.20692108094258     </td><td>-1.08533918832377     </td><td>40.8              </td><td>false  </td></tr>\n",
       "<tr><td>7      </td><td>-0.89428608220282    </td><td>0.286157196276544    </td><td>-0.113192212729871    </td><td>-0.271526130088604  </td><td>2.6695986595986      </td><td>3.72181806112751      </td><td>0.370145127676916   </td><td>0.851084443200905     </td><td>-0.392047586798604    </td><td>-0.410430432848439    </td><td>-0.705116586646536   </td><td>-0.110452261733098     </td><td>-0.286253632470583   </td><td>0.0743553603016731   </td><td>-0.328783050303565   </td><td>-0.210077268148783    </td><td>-0.499767968800267    </td><td>0.118764861004217    </td><td>0.57032816746536     </td><td>0.0527356691149697   </td><td>-0.0734251001059225 </td><td>-0.268091632235551    </td><td>-0.204232669947878   </td><td>1.0115918018785        </td><td>0.373204680146282     </td><td>-0.384157307702294    </td><td>0.0117473564581996    </td><td>0.14240432992147      </td><td>93.2              </td><td>false  </td></tr>\n",
       "<tr><td>8      </td><td>1.44904378114715     </td><td>-1.17633882535966    </td><td>0.913859832832795     </td><td>-1.37566665499943   </td><td>-1.97138316545323    </td><td>-0.62915213889734     </td><td>-1.4232356010359    </td><td>0.0484558879088564    </td><td>-1.72040839292037     </td><td>1.62665905834133      </td><td>1.1996439495421      </td><td>-0.671439778462005     </td><td>-0.513947152539479   </td><td>-0.0950450453999549  </td><td>0.230930409124119    </td><td>0.0319674667862076    </td><td>0.253414715863197     </td><td>0.854343814324194    </td><td>-0.221365413645481   </td><td>-0.387226474431156   </td><td>-0.00930189652490052</td><td>0.313894410791098     </td><td>0.0277401580170247   </td><td>0.500512287104917      </td><td>0.25136735874921      </td><td>-0.129477953726618    </td><td>0.0428498709381461    </td><td>0.0162532619375515    </td><td>7.8               </td><td>false  </td></tr>\n",
       "<tr><td>9      </td><td>0.38497821518095     </td><td>0.616109459176472    </td><td>-0.874299702595052    </td><td>-0.0940186259679115 </td><td>2.92458437838817     </td><td>3.31702716826156      </td><td>0.470454671805879   </td><td>0.53824722837695      </td><td>-0.558894612428441    </td><td>0.30975539423728      </td><td>-0.259115563735702   </td><td>-0.326143233995877     </td><td>-0.0900467227020648  </td><td>0.362832368569793    </td><td>0.928903660629178    </td><td>-0.129486811402759    </td><td>-0.809978925963589    </td><td>0.359985390219981    </td><td>0.70766382644648     </td><td>0.12599157561542     </td><td>0.049923685888971   </td><td>0.238421512225103     </td><td>0.00912986861262866  </td><td>0.996710209581086      </td><td>-0.767314827174801    </td><td>-0.492208295340017    </td><td>0.042472441919027     </td><td>-0.0543373883732122   </td><td>9.99              </td><td>false  </td></tr>\n",
       "</tbody>\n",
       "</table>"
      ]
     },
     "metadata": {},
     "output_type": "display_data"
    }
   ],
   "source": [
    "train.describe()"
   ]
  },
  {
   "cell_type": "code",
   "execution_count": 30,
   "metadata": {},
   "outputs": [
    {
     "name": "stdout",
     "output_type": "stream",
     "text": [
      "AutoML progress: |████████████████████████████████████████████████████████| 100%\n"
     ]
    }
   ],
   "source": [
    "aml.train(y = y, training_frame = train, leaderboard_frame =test )"
   ]
  },
  {
   "cell_type": "code",
   "execution_count": 31,
   "metadata": {},
   "outputs": [
    {
     "data": {
      "text/html": [
       "<table>\n",
       "<thead>\n",
       "<tr><th>model_id                                           </th><th style=\"text-align: right;\">     auc</th><th style=\"text-align: right;\">   logloss</th><th style=\"text-align: right;\">  mean_per_class_error</th><th style=\"text-align: right;\">     rmse</th><th style=\"text-align: right;\">        mse</th></tr>\n",
       "</thead>\n",
       "<tbody>\n",
       "<tr><td>GLM_grid_1_AutoML_20181213_031937_model_1          </td><td style=\"text-align: right;\">0.977199</td><td style=\"text-align: right;\">0.00361088</td><td style=\"text-align: right;\">              0.101274</td><td style=\"text-align: right;\">0.0247554</td><td style=\"text-align: right;\">0.000612832</td></tr>\n",
       "<tr><td>StackedEnsemble_BestOfFamily_AutoML_20181213_031937</td><td style=\"text-align: right;\">0.969091</td><td style=\"text-align: right;\">0.0028688 </td><td style=\"text-align: right;\">              0.10115 </td><td style=\"text-align: right;\">0.0193563</td><td style=\"text-align: right;\">0.000374667</td></tr>\n",
       "<tr><td>GBM_grid_1_AutoML_20181213_031937_model_9          </td><td style=\"text-align: right;\">0.967757</td><td style=\"text-align: right;\">0.00296764</td><td style=\"text-align: right;\">              0.123613</td><td style=\"text-align: right;\">0.0204713</td><td style=\"text-align: right;\">0.000419073</td></tr>\n",
       "<tr><td>GBM_grid_1_AutoML_20181213_031937_model_10         </td><td style=\"text-align: right;\">0.966486</td><td style=\"text-align: right;\">0.00261102</td><td style=\"text-align: right;\">              0.112368</td><td style=\"text-align: right;\">0.0197562</td><td style=\"text-align: right;\">0.000390307</td></tr>\n",
       "<tr><td>StackedEnsemble_AllModels_AutoML_20181213_031937   </td><td style=\"text-align: right;\">0.966442</td><td style=\"text-align: right;\">0.00280986</td><td style=\"text-align: right;\">              0.10675 </td><td style=\"text-align: right;\">0.0188437</td><td style=\"text-align: right;\">0.000355087</td></tr>\n",
       "<tr><td>GBM_grid_1_AutoML_20181213_031937_model_1          </td><td style=\"text-align: right;\">0.965367</td><td style=\"text-align: right;\">0.00337027</td><td style=\"text-align: right;\">              0.140458</td><td style=\"text-align: right;\">0.0214772</td><td style=\"text-align: right;\">0.000461269</td></tr>\n",
       "<tr><td>XRT_1_AutoML_20181213_031937                       </td><td style=\"text-align: right;\">0.961202</td><td style=\"text-align: right;\">0.00334638</td><td style=\"text-align: right;\">              0.106742</td><td style=\"text-align: right;\">0.0191763</td><td style=\"text-align: right;\">0.00036773 </td></tr>\n",
       "<tr><td>GBM_grid_1_AutoML_20181213_031937_model_2          </td><td style=\"text-align: right;\">0.96018 </td><td style=\"text-align: right;\">0.00275427</td><td style=\"text-align: right;\">              0.106759</td><td style=\"text-align: right;\">0.0192558</td><td style=\"text-align: right;\">0.000370784</td></tr>\n",
       "<tr><td>DRF_1_AutoML_20181213_031937                       </td><td style=\"text-align: right;\">0.956901</td><td style=\"text-align: right;\">0.0029183 </td><td style=\"text-align: right;\">              0.101159</td><td style=\"text-align: right;\">0.0193727</td><td style=\"text-align: right;\">0.000375303</td></tr>\n",
       "<tr><td>DeepLearning_1_AutoML_20181213_031937              </td><td style=\"text-align: right;\">0.946878</td><td style=\"text-align: right;\">0.0064621 </td><td style=\"text-align: right;\">              0.118048</td><td style=\"text-align: right;\">0.0225719</td><td style=\"text-align: right;\">0.00050949 </td></tr>\n",
       "</tbody>\n",
       "</table>"
      ]
     },
     "metadata": {},
     "output_type": "display_data"
    },
    {
     "data": {
      "text/plain": []
     },
     "execution_count": 31,
     "metadata": {},
     "output_type": "execute_result"
    }
   ],
   "source": [
    "aml.leaderboard"
   ]
  },
  {
   "cell_type": "code",
   "execution_count": 32,
   "metadata": {},
   "outputs": [
    {
     "name": "stdout",
     "output_type": "stream",
     "text": [
      "\n",
      "ModelMetricsBinomialGLM: glm\n",
      "** Reported on test data. **\n",
      "\n",
      "MSE: 0.0006128319563047178\n",
      "RMSE: 0.02475544296320948\n",
      "LogLoss: 0.0036108818551839387\n",
      "Null degrees of freedom: 56721\n",
      "Residual degrees of freedom: 56692\n",
      "Null deviance: 1328.7081604932569\n",
      "Residual deviance: 409.6328811794863\n",
      "AIC: 469.6328811794863\n",
      "AUC: 0.9771994412278385\n",
      "pr_auc: 0.533632973704444\n",
      "Gini: 0.9543988824556771\n",
      "Confusion Matrix (Act/Pred) for max f1 @ threshold = 0.09944712514020763: \n"
     ]
    },
    {
     "data": {
      "text/html": [
       "<div style=\"overflow:auto\"><table style=\"width:50%\"><tr><td><b></b></td>\n",
       "<td><b>false</b></td>\n",
       "<td><b>true</b></td>\n",
       "<td><b>Error</b></td>\n",
       "<td><b>Rate</b></td></tr>\n",
       "<tr><td>false</td>\n",
       "<td>56616.0</td>\n",
       "<td>17.0</td>\n",
       "<td>0.0003</td>\n",
       "<td> (17.0/56633.0)</td></tr>\n",
       "<tr><td>true</td>\n",
       "<td>18.0</td>\n",
       "<td>71.0</td>\n",
       "<td>0.2022</td>\n",
       "<td> (18.0/89.0)</td></tr>\n",
       "<tr><td>Total</td>\n",
       "<td>56634.0</td>\n",
       "<td>88.0</td>\n",
       "<td>0.0006</td>\n",
       "<td> (35.0/56722.0)</td></tr></table></div>"
      ],
      "text/plain": [
       "       false    true    Error    Rate\n",
       "-----  -------  ------  -------  --------------\n",
       "false  56616    17      0.0003   (17.0/56633.0)\n",
       "true   18       71      0.2022   (18.0/89.0)\n",
       "Total  56634    88      0.0006   (35.0/56722.0)"
      ]
     },
     "metadata": {},
     "output_type": "display_data"
    },
    {
     "name": "stdout",
     "output_type": "stream",
     "text": [
      "Maximum Metrics: Maximum metrics at their respective thresholds\n",
      "\n"
     ]
    },
    {
     "data": {
      "text/html": [
       "<div style=\"overflow:auto\"><table style=\"width:50%\"><tr><td><b>metric</b></td>\n",
       "<td><b>threshold</b></td>\n",
       "<td><b>value</b></td>\n",
       "<td><b>idx</b></td></tr>\n",
       "<tr><td>max f1</td>\n",
       "<td>0.0994471</td>\n",
       "<td>0.8022599</td>\n",
       "<td>61.0</td></tr>\n",
       "<tr><td>max f2</td>\n",
       "<td>0.0527426</td>\n",
       "<td>0.8021978</td>\n",
       "<td>72.0</td></tr>\n",
       "<tr><td>max f0point5</td>\n",
       "<td>0.4906462</td>\n",
       "<td>0.8309456</td>\n",
       "<td>38.0</td></tr>\n",
       "<tr><td>max accuracy</td>\n",
       "<td>0.1124093</td>\n",
       "<td>0.9993830</td>\n",
       "<td>57.0</td></tr>\n",
       "<tr><td>max precision</td>\n",
       "<td>0.9999978</td>\n",
       "<td>0.9545455</td>\n",
       "<td>0.0</td></tr>\n",
       "<tr><td>max recall</td>\n",
       "<td>0.0002165</td>\n",
       "<td>1.0</td>\n",
       "<td>364.0</td></tr>\n",
       "<tr><td>max specificity</td>\n",
       "<td>0.9999978</td>\n",
       "<td>0.9999823</td>\n",
       "<td>0.0</td></tr>\n",
       "<tr><td>max absolute_mcc</td>\n",
       "<td>0.0994471</td>\n",
       "<td>0.8019637</td>\n",
       "<td>61.0</td></tr>\n",
       "<tr><td>max min_per_class_accuracy</td>\n",
       "<td>0.0010745</td>\n",
       "<td>0.9181749</td>\n",
       "<td>284.0</td></tr>\n",
       "<tr><td>max mean_per_class_accuracy</td>\n",
       "<td>0.0021546</td>\n",
       "<td>0.9304358</td>\n",
       "<td>241.0</td></tr></table></div>"
      ],
      "text/plain": [
       "metric                       threshold    value     idx\n",
       "---------------------------  -----------  --------  -----\n",
       "max f1                       0.0994471    0.80226   61\n",
       "max f2                       0.0527426    0.802198  72\n",
       "max f0point5                 0.490646     0.830946  38\n",
       "max accuracy                 0.112409     0.999383  57\n",
       "max precision                0.999998     0.954545  0\n",
       "max recall                   0.000216541  1         364\n",
       "max specificity              0.999998     0.999982  0\n",
       "max absolute_mcc             0.0994471    0.801964  61\n",
       "max min_per_class_accuracy   0.00107447   0.918175  284\n",
       "max mean_per_class_accuracy  0.0021546    0.930436  241"
      ]
     },
     "metadata": {},
     "output_type": "display_data"
    },
    {
     "name": "stdout",
     "output_type": "stream",
     "text": [
      "Gains/Lift Table: Avg response rate:  0.16 %, avg score:  0.16 %\n",
      "\n"
     ]
    },
    {
     "data": {
      "text/html": [
       "<div style=\"overflow:auto\"><table style=\"width:50%\"><tr><td><b></b></td>\n",
       "<td><b>group</b></td>\n",
       "<td><b>cumulative_data_fraction</b></td>\n",
       "<td><b>lower_threshold</b></td>\n",
       "<td><b>lift</b></td>\n",
       "<td><b>cumulative_lift</b></td>\n",
       "<td><b>response_rate</b></td>\n",
       "<td><b>score</b></td>\n",
       "<td><b>cumulative_response_rate</b></td>\n",
       "<td><b>cumulative_score</b></td>\n",
       "<td><b>capture_rate</b></td>\n",
       "<td><b>cumulative_capture_rate</b></td>\n",
       "<td><b>gain</b></td>\n",
       "<td><b>cumulative_gain</b></td></tr>\n",
       "<tr><td></td>\n",
       "<td>1</td>\n",
       "<td>0.0100138</td>\n",
       "<td>0.0046887</td>\n",
       "<td>86.3980456</td>\n",
       "<td>86.3980456</td>\n",
       "<td>0.1355634</td>\n",
       "<td>0.1237226</td>\n",
       "<td>0.1355634</td>\n",
       "<td>0.1237226</td>\n",
       "<td>0.8651685</td>\n",
       "<td>0.8651685</td>\n",
       "<td>8539.8045577</td>\n",
       "<td>8539.8045577</td></tr>\n",
       "<tr><td></td>\n",
       "<td>2</td>\n",
       "<td>0.0200099</td>\n",
       "<td>0.0027713</td>\n",
       "<td>0.0</td>\n",
       "<td>43.2370836</td>\n",
       "<td>0.0</td>\n",
       "<td>0.0035536</td>\n",
       "<td>0.0678414</td>\n",
       "<td>0.0636911</td>\n",
       "<td>0.0</td>\n",
       "<td>0.8651685</td>\n",
       "<td>-100.0</td>\n",
       "<td>4223.7083601</td></tr>\n",
       "<tr><td></td>\n",
       "<td>3</td>\n",
       "<td>0.0300060</td>\n",
       "<td>0.0020155</td>\n",
       "<td>2.2480629</td>\n",
       "<td>29.5821043</td>\n",
       "<td>0.0035273</td>\n",
       "<td>0.0023349</td>\n",
       "<td>0.0464160</td>\n",
       "<td>0.0432510</td>\n",
       "<td>0.0224719</td>\n",
       "<td>0.8876404</td>\n",
       "<td>124.8062937</td>\n",
       "<td>2858.2104332</td></tr>\n",
       "<tr><td></td>\n",
       "<td>4</td>\n",
       "<td>0.0400021</td>\n",
       "<td>0.0016809</td>\n",
       "<td>0.0</td>\n",
       "<td>22.1898376</td>\n",
       "<td>0.0</td>\n",
       "<td>0.0018322</td>\n",
       "<td>0.0348171</td>\n",
       "<td>0.0329009</td>\n",
       "<td>0.0</td>\n",
       "<td>0.8876404</td>\n",
       "<td>-100.0</td>\n",
       "<td>2118.9837626</td></tr>\n",
       "<tr><td></td>\n",
       "<td>5</td>\n",
       "<td>0.0500159</td>\n",
       "<td>0.0014674</td>\n",
       "<td>0.0</td>\n",
       "<td>17.7471771</td>\n",
       "<td>0.0</td>\n",
       "<td>0.0015658</td>\n",
       "<td>0.0278463</td>\n",
       "<td>0.0266273</td>\n",
       "<td>0.0</td>\n",
       "<td>0.8876404</td>\n",
       "<td>-100.0</td>\n",
       "<td>1674.7177149</td></tr>\n",
       "<tr><td></td>\n",
       "<td>6</td>\n",
       "<td>0.1000141</td>\n",
       "<td>0.0009466</td>\n",
       "<td>0.6741811</td>\n",
       "<td>9.2121839</td>\n",
       "<td>0.0010578</td>\n",
       "<td>0.0011605</td>\n",
       "<td>0.0144544</td>\n",
       "<td>0.0138961</td>\n",
       "<td>0.0337079</td>\n",
       "<td>0.9213483</td>\n",
       "<td>-32.5818925</td>\n",
       "<td>821.2183871</td></tr>\n",
       "<tr><td></td>\n",
       "<td>7</td>\n",
       "<td>0.1500123</td>\n",
       "<td>0.0007057</td>\n",
       "<td>0.6741811</td>\n",
       "<td>6.3665174</td>\n",
       "<td>0.0010578</td>\n",
       "<td>0.0008139</td>\n",
       "<td>0.0099894</td>\n",
       "<td>0.0095359</td>\n",
       "<td>0.0337079</td>\n",
       "<td>0.9550562</td>\n",
       "<td>-32.5818925</td>\n",
       "<td>536.6517409</td></tr>\n",
       "<tr><td></td>\n",
       "<td>8</td>\n",
       "<td>0.2000106</td>\n",
       "<td>0.0005636</td>\n",
       "<td>0.0</td>\n",
       "<td>4.7750283</td>\n",
       "<td>0.0</td>\n",
       "<td>0.0006290</td>\n",
       "<td>0.0074923</td>\n",
       "<td>0.0073094</td>\n",
       "<td>0.0</td>\n",
       "<td>0.9550562</td>\n",
       "<td>-100.0</td>\n",
       "<td>377.5028350</td></tr>\n",
       "<tr><td></td>\n",
       "<td>9</td>\n",
       "<td>0.3000071</td>\n",
       "<td>0.0004012</td>\n",
       "<td>0.1123635</td>\n",
       "<td>3.2208981</td>\n",
       "<td>0.0001763</td>\n",
       "<td>0.0004727</td>\n",
       "<td>0.0050538</td>\n",
       "<td>0.0050306</td>\n",
       "<td>0.0112360</td>\n",
       "<td>0.9662921</td>\n",
       "<td>-88.7636488</td>\n",
       "<td>222.0898071</td></tr>\n",
       "<tr><td></td>\n",
       "<td>10</td>\n",
       "<td>0.4000035</td>\n",
       "<td>0.0003060</td>\n",
       "<td>0.2247270</td>\n",
       "<td>2.4718883</td>\n",
       "<td>0.0003526</td>\n",
       "<td>0.0003508</td>\n",
       "<td>0.0038785</td>\n",
       "<td>0.0038607</td>\n",
       "<td>0.0224719</td>\n",
       "<td>0.9887640</td>\n",
       "<td>-77.5272975</td>\n",
       "<td>147.1888323</td></tr>\n",
       "<tr><td></td>\n",
       "<td>11</td>\n",
       "<td>0.5</td>\n",
       "<td>0.0002342</td>\n",
       "<td>0.0</td>\n",
       "<td>1.9775281</td>\n",
       "<td>0.0</td>\n",
       "<td>0.0002692</td>\n",
       "<td>0.0031029</td>\n",
       "<td>0.0031424</td>\n",
       "<td>0.0</td>\n",
       "<td>0.9887640</td>\n",
       "<td>-100.0</td>\n",
       "<td>97.7528090</td></tr>\n",
       "<tr><td></td>\n",
       "<td>12</td>\n",
       "<td>0.5999965</td>\n",
       "<td>0.0001786</td>\n",
       "<td>0.1123635</td>\n",
       "<td>1.6666765</td>\n",
       "<td>0.0001763</td>\n",
       "<td>0.0002054</td>\n",
       "<td>0.0026151</td>\n",
       "<td>0.0026529</td>\n",
       "<td>0.0112360</td>\n",
       "<td>1.0</td>\n",
       "<td>-88.7636488</td>\n",
       "<td>66.6676461</td></tr>\n",
       "<tr><td></td>\n",
       "<td>13</td>\n",
       "<td>0.6999929</td>\n",
       "<td>0.0001326</td>\n",
       "<td>0.0</td>\n",
       "<td>1.4285858</td>\n",
       "<td>0.0</td>\n",
       "<td>0.0001547</td>\n",
       "<td>0.0022415</td>\n",
       "<td>0.0022961</td>\n",
       "<td>0.0</td>\n",
       "<td>1.0</td>\n",
       "<td>-100.0</td>\n",
       "<td>42.8585820</td></tr>\n",
       "<tr><td></td>\n",
       "<td>14</td>\n",
       "<td>0.7999894</td>\n",
       "<td>0.0000915</td>\n",
       "<td>0.0</td>\n",
       "<td>1.2500165</td>\n",
       "<td>0.0</td>\n",
       "<td>0.0001115</td>\n",
       "<td>0.0019613</td>\n",
       "<td>0.0020230</td>\n",
       "<td>0.0</td>\n",
       "<td>1.0</td>\n",
       "<td>-100.0</td>\n",
       "<td>25.0016528</td></tr>\n",
       "<tr><td></td>\n",
       "<td>15</td>\n",
       "<td>0.8999859</td>\n",
       "<td>0.0000539</td>\n",
       "<td>0.0</td>\n",
       "<td>1.1111285</td>\n",
       "<td>0.0</td>\n",
       "<td>0.0000725</td>\n",
       "<td>0.0017434</td>\n",
       "<td>0.0018063</td>\n",
       "<td>0.0</td>\n",
       "<td>1.0</td>\n",
       "<td>-100.0</td>\n",
       "<td>11.1128524</td></tr>\n",
       "<tr><td></td>\n",
       "<td>16</td>\n",
       "<td>1.0</td>\n",
       "<td>0.0000000</td>\n",
       "<td>0.0</td>\n",
       "<td>1.0</td>\n",
       "<td>0.0</td>\n",
       "<td>0.0000300</td>\n",
       "<td>0.0015691</td>\n",
       "<td>0.0016286</td>\n",
       "<td>0.0</td>\n",
       "<td>1.0</td>\n",
       "<td>-100.0</td>\n",
       "<td>0.0</td></tr></table></div>"
      ],
      "text/plain": [
       "    group    cumulative_data_fraction    lower_threshold    lift      cumulative_lift    response_rate    score        cumulative_response_rate    cumulative_score    capture_rate    cumulative_capture_rate    gain      cumulative_gain\n",
       "--  -------  --------------------------  -----------------  --------  -----------------  ---------------  -----------  --------------------------  ------------------  --------------  -------------------------  --------  -----------------\n",
       "    1        0.0100138                   0.00468872         86.398    86.398             0.135563         0.123723     0.135563                    0.123723            0.865169        0.865169                   8539.8    8539.8\n",
       "    2        0.0200099                   0.00277131         0         43.2371            0                0.00355364   0.0678414                   0.0636911           0               0.865169                   -100      4223.71\n",
       "    3        0.030006                    0.00201546         2.24806   29.5821            0.00352734       0.00233489   0.046416                    0.043251            0.0224719       0.88764                    124.806   2858.21\n",
       "    4        0.0400021                   0.00168092         0         22.1898            0                0.00183224   0.0348171                   0.0329009           0               0.88764                    -100      2118.98\n",
       "    5        0.0500159                   0.00146743         0         17.7472            0                0.00156585   0.0278463                   0.0266273           0               0.88764                    -100      1674.72\n",
       "    6        0.100014                    0.000946564        0.674181  9.21218            0.00105783       0.00116048   0.0144544                   0.0138961           0.0337079       0.921348                   -32.5819  821.218\n",
       "    7        0.150012                    0.000705704        0.674181  6.36652            0.00105783       0.00081393   0.00998942                  0.0095359           0.0337079       0.955056                   -32.5819  536.652\n",
       "    8        0.200011                    0.000563593        0         4.77503            0                0.00062898   0.00749229                  0.00730936          0               0.955056                   -100      377.503\n",
       "    9        0.300007                    0.000401182        0.112364  3.2209             0.000176305      0.000472703  0.00505377                  0.00503061          0.011236        0.966292                   -88.7636  222.09\n",
       "    10       0.400004                    0.000306038        0.224727  2.47189            0.000352609      0.000350794  0.00387853                  0.00386071          0.0224719       0.988764                   -77.5273  147.189\n",
       "    11       0.5                         0.000234225        0         1.97753            0                0.000269171  0.00310285                  0.00314243          0               0.988764                   -100      97.7528\n",
       "    12       0.599996                    0.000178591        0.112364  1.66668            0.000176305      0.000205416  0.00261511                  0.00265294          0.011236        1                          -88.7636  66.6676\n",
       "    13       0.699993                    0.000132595        0         1.42859            0                0.000154706  0.00224153                  0.00229606          0               1                          -100      42.8586\n",
       "    14       0.799989                    9.14606e-05        0         1.25002            0                0.000111529  0.00196135                  0.002023            0               1                          -100      25.0017\n",
       "    15       0.899986                    5.38667e-05        0         1.11113            0                7.24553e-05  0.00174342                  0.00180627          0               1                          -100      11.1129\n",
       "    16       1                           3.80543e-12        0         1                  0                3.00255e-05  0.00156906                  0.00162862          0               1                          -100      0"
      ]
     },
     "metadata": {},
     "output_type": "display_data"
    },
    {
     "name": "stdout",
     "output_type": "stream",
     "text": [
      "\n"
     ]
    },
    {
     "data": {
      "text/plain": []
     },
     "execution_count": 32,
     "metadata": {},
     "output_type": "execute_result"
    }
   ],
   "source": [
    "perf = aml.leader.model_performance(test)\n",
    "perf"
   ]
  },
  {
   "cell_type": "code",
   "execution_count": null,
   "metadata": {},
   "outputs": [],
   "source": []
  }
 ],
 "metadata": {
  "kernelspec": {
   "display_name": "Python 3",
   "language": "python",
   "name": "python3"
  },
  "language_info": {
   "codemirror_mode": {
    "name": "ipython",
    "version": 3
   },
   "file_extension": ".py",
   "mimetype": "text/x-python",
   "name": "python",
   "nbconvert_exporter": "python",
   "pygments_lexer": "ipython3",
   "version": "3.7.0"
  }
 },
 "nbformat": 4,
 "nbformat_minor": 2
}
