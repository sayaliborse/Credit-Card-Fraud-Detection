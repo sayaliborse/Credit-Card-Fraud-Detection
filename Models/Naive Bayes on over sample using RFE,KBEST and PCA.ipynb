{
 "cells": [
  {
   "cell_type": "markdown",
   "metadata": {},
   "source": [
    "# IMPORTING LIBRARIES"
   ]
  },
  {
   "cell_type": "code",
   "execution_count": 8,
   "metadata": {},
   "outputs": [],
   "source": [
    "import pandas as pd\n",
    "import numpy as np\n",
    "import imblearn\n",
    "from sklearn.model_selection import train_test_split\n",
    "from sklearn.feature_selection import RFE\n",
    "from sklearn.metrics import mean_absolute_error\n",
    "from sklearn.metrics import mean_squared_error\n",
    "from sklearn.metrics import r2_score\n",
    "from sklearn import linear_model\n",
    "from sklearn.feature_selection import SelectKBest\n",
    "from sklearn.feature_selection import f_regression\n",
    "from sklearn.feature_selection import f_classif\n",
    "from sklearn.feature_selection import RFE\n",
    "from sklearn.linear_model import LogisticRegression\n",
    "from sklearn.naive_bayes import GaussianNB, BernoulliNB, MultinomialNB\n",
    "from sklearn.metrics import precision_score, recall_score, f1_score, roc_auc_score, accuracy_score, classification_report, confusion_matrix\n",
    "from sklearn.decomposition import PCA\n"
   ]
  },
  {
   "cell_type": "markdown",
   "metadata": {},
   "source": [
    "# READING CSV FILE"
   ]
  },
  {
   "cell_type": "code",
   "execution_count": 9,
   "metadata": {},
   "outputs": [
    {
     "data": {
      "text/html": [
       "<div>\n",
       "<style scoped>\n",
       "    .dataframe tbody tr th:only-of-type {\n",
       "        vertical-align: middle;\n",
       "    }\n",
       "\n",
       "    .dataframe tbody tr th {\n",
       "        vertical-align: top;\n",
       "    }\n",
       "\n",
       "    .dataframe thead th {\n",
       "        text-align: right;\n",
       "    }\n",
       "</style>\n",
       "<table border=\"1\" class=\"dataframe\">\n",
       "  <thead>\n",
       "    <tr style=\"text-align: right;\">\n",
       "      <th></th>\n",
       "      <th>Unnamed: 0</th>\n",
       "      <th>Time</th>\n",
       "      <th>V1</th>\n",
       "      <th>V2</th>\n",
       "      <th>V3</th>\n",
       "      <th>V4</th>\n",
       "      <th>V5</th>\n",
       "      <th>V6</th>\n",
       "      <th>V7</th>\n",
       "      <th>V8</th>\n",
       "      <th>...</th>\n",
       "      <th>V21</th>\n",
       "      <th>V22</th>\n",
       "      <th>V23</th>\n",
       "      <th>V24</th>\n",
       "      <th>V25</th>\n",
       "      <th>V26</th>\n",
       "      <th>V27</th>\n",
       "      <th>V28</th>\n",
       "      <th>Amount</th>\n",
       "      <th>Class</th>\n",
       "    </tr>\n",
       "  </thead>\n",
       "  <tbody>\n",
       "    <tr>\n",
       "      <th>0</th>\n",
       "      <td>1</td>\n",
       "      <td>0.0</td>\n",
       "      <td>-1.359807</td>\n",
       "      <td>-0.072781</td>\n",
       "      <td>2.536347</td>\n",
       "      <td>1.378155</td>\n",
       "      <td>-0.338321</td>\n",
       "      <td>0.462388</td>\n",
       "      <td>0.239599</td>\n",
       "      <td>0.098698</td>\n",
       "      <td>...</td>\n",
       "      <td>-0.018307</td>\n",
       "      <td>0.277838</td>\n",
       "      <td>-0.110474</td>\n",
       "      <td>0.066928</td>\n",
       "      <td>0.128539</td>\n",
       "      <td>-0.189115</td>\n",
       "      <td>0.133558</td>\n",
       "      <td>-0.021053</td>\n",
       "      <td>149.62</td>\n",
       "      <td>0</td>\n",
       "    </tr>\n",
       "    <tr>\n",
       "      <th>1</th>\n",
       "      <td>2</td>\n",
       "      <td>0.0</td>\n",
       "      <td>1.191857</td>\n",
       "      <td>0.266151</td>\n",
       "      <td>0.166480</td>\n",
       "      <td>0.448154</td>\n",
       "      <td>0.060018</td>\n",
       "      <td>-0.082361</td>\n",
       "      <td>-0.078803</td>\n",
       "      <td>0.085102</td>\n",
       "      <td>...</td>\n",
       "      <td>-0.225775</td>\n",
       "      <td>-0.638672</td>\n",
       "      <td>0.101288</td>\n",
       "      <td>-0.339846</td>\n",
       "      <td>0.167170</td>\n",
       "      <td>0.125895</td>\n",
       "      <td>-0.008983</td>\n",
       "      <td>0.014724</td>\n",
       "      <td>2.69</td>\n",
       "      <td>0</td>\n",
       "    </tr>\n",
       "    <tr>\n",
       "      <th>2</th>\n",
       "      <td>3</td>\n",
       "      <td>1.0</td>\n",
       "      <td>-1.358354</td>\n",
       "      <td>-1.340163</td>\n",
       "      <td>1.773209</td>\n",
       "      <td>0.379780</td>\n",
       "      <td>-0.503198</td>\n",
       "      <td>1.800499</td>\n",
       "      <td>0.791461</td>\n",
       "      <td>0.247676</td>\n",
       "      <td>...</td>\n",
       "      <td>0.247998</td>\n",
       "      <td>0.771679</td>\n",
       "      <td>0.909412</td>\n",
       "      <td>-0.689281</td>\n",
       "      <td>-0.327642</td>\n",
       "      <td>-0.139097</td>\n",
       "      <td>-0.055353</td>\n",
       "      <td>-0.059752</td>\n",
       "      <td>378.66</td>\n",
       "      <td>0</td>\n",
       "    </tr>\n",
       "    <tr>\n",
       "      <th>3</th>\n",
       "      <td>4</td>\n",
       "      <td>1.0</td>\n",
       "      <td>-0.966272</td>\n",
       "      <td>-0.185226</td>\n",
       "      <td>1.792993</td>\n",
       "      <td>-0.863291</td>\n",
       "      <td>-0.010309</td>\n",
       "      <td>1.247203</td>\n",
       "      <td>0.237609</td>\n",
       "      <td>0.377436</td>\n",
       "      <td>...</td>\n",
       "      <td>-0.108300</td>\n",
       "      <td>0.005274</td>\n",
       "      <td>-0.190321</td>\n",
       "      <td>-1.175575</td>\n",
       "      <td>0.647376</td>\n",
       "      <td>-0.221929</td>\n",
       "      <td>0.062723</td>\n",
       "      <td>0.061458</td>\n",
       "      <td>123.50</td>\n",
       "      <td>0</td>\n",
       "    </tr>\n",
       "    <tr>\n",
       "      <th>4</th>\n",
       "      <td>5</td>\n",
       "      <td>2.0</td>\n",
       "      <td>-1.158233</td>\n",
       "      <td>0.877737</td>\n",
       "      <td>1.548718</td>\n",
       "      <td>0.403034</td>\n",
       "      <td>-0.407193</td>\n",
       "      <td>0.095921</td>\n",
       "      <td>0.592941</td>\n",
       "      <td>-0.270533</td>\n",
       "      <td>...</td>\n",
       "      <td>-0.009431</td>\n",
       "      <td>0.798278</td>\n",
       "      <td>-0.137458</td>\n",
       "      <td>0.141267</td>\n",
       "      <td>-0.206010</td>\n",
       "      <td>0.502292</td>\n",
       "      <td>0.219422</td>\n",
       "      <td>0.215153</td>\n",
       "      <td>69.99</td>\n",
       "      <td>0</td>\n",
       "    </tr>\n",
       "  </tbody>\n",
       "</table>\n",
       "<p>5 rows × 32 columns</p>\n",
       "</div>"
      ],
      "text/plain": [
       "   Unnamed: 0  Time        V1        V2        V3        V4        V5  \\\n",
       "0           1   0.0 -1.359807 -0.072781  2.536347  1.378155 -0.338321   \n",
       "1           2   0.0  1.191857  0.266151  0.166480  0.448154  0.060018   \n",
       "2           3   1.0 -1.358354 -1.340163  1.773209  0.379780 -0.503198   \n",
       "3           4   1.0 -0.966272 -0.185226  1.792993 -0.863291 -0.010309   \n",
       "4           5   2.0 -1.158233  0.877737  1.548718  0.403034 -0.407193   \n",
       "\n",
       "         V6        V7        V8  ...         V21       V22       V23  \\\n",
       "0  0.462388  0.239599  0.098698  ...   -0.018307  0.277838 -0.110474   \n",
       "1 -0.082361 -0.078803  0.085102  ...   -0.225775 -0.638672  0.101288   \n",
       "2  1.800499  0.791461  0.247676  ...    0.247998  0.771679  0.909412   \n",
       "3  1.247203  0.237609  0.377436  ...   -0.108300  0.005274 -0.190321   \n",
       "4  0.095921  0.592941 -0.270533  ...   -0.009431  0.798278 -0.137458   \n",
       "\n",
       "        V24       V25       V26       V27       V28  Amount  Class  \n",
       "0  0.066928  0.128539 -0.189115  0.133558 -0.021053  149.62      0  \n",
       "1 -0.339846  0.167170  0.125895 -0.008983  0.014724    2.69      0  \n",
       "2 -0.689281 -0.327642 -0.139097 -0.055353 -0.059752  378.66      0  \n",
       "3 -1.175575  0.647376 -0.221929  0.062723  0.061458  123.50      0  \n",
       "4  0.141267 -0.206010  0.502292  0.219422  0.215153   69.99      0  \n",
       "\n",
       "[5 rows x 32 columns]"
      ]
     },
     "execution_count": 9,
     "metadata": {},
     "output_type": "execute_result"
    }
   ],
   "source": [
    "df = pd.read_csv(\"./CC.csv\")\n",
    "df.head()"
   ]
  },
  {
   "cell_type": "code",
   "execution_count": 10,
   "metadata": {},
   "outputs": [],
   "source": [
    "X = df[['V1','V2','V3','V4','V5','V6','V7','V8','V9','V10','V11','V12','V13','V14','V15','V16','V17','V18','V19',\n",
    "          'V20','V21','V22','V23','V24','V25','V26','V27','V28','Amount']]\n",
    "Y = df['Class']"
   ]
  },
  {
   "cell_type": "markdown",
   "metadata": {},
   "source": [
    "# oversampling THE DATA"
   ]
  },
  {
   "cell_type": "code",
   "execution_count": 12,
   "metadata": {},
   "outputs": [
    {
     "name": "stdout",
     "output_type": "stream",
     "text": [
      "length of oversampled data is  568630\n",
      "Number of normal transcation in oversampled data 284315\n",
      "No.of fraud transcation 284315\n",
      "Proportion of Normal data in oversampled data is  0.5\n",
      "Proportion of fraud data in oversampled data is  0.5\n"
     ]
    }
   ],
   "source": [
    "from imblearn.over_sampling import SMOTE\n",
    "\n",
    "os = SMOTE(random_state=0) \n",
    "columns = X.columns\n",
    "\n",
    "os_data_X,os_data_y=os.fit_sample(X,Y)\n",
    "os_data_X = pd.DataFrame(data=os_data_X,columns=columns )\n",
    "os_data_y= pd.DataFrame(data=os_data_y,columns=[\"Class\"])\n",
    "# we can Check the numbers of our data\n",
    "print(\"length of oversampled data is \",len(os_data_X))\n",
    "print(\"Number of normal transcation in oversampled data\",len(os_data_y[os_data_y[\"Class\"]==0]))\n",
    "print(\"No.of fraud transcation\",len(os_data_y[os_data_y[\"Class\"]==1]))\n",
    "print(\"Proportion of Normal data in oversampled data is \",len(os_data_y[os_data_y[\"Class\"]==0])/len(os_data_X))\n",
    "print(\"Proportion of fraud data in oversampled data is \",len(os_data_y[os_data_y[\"Class\"]==1])/len(os_data_X))"
   ]
  },
  {
   "cell_type": "markdown",
   "metadata": {},
   "source": [
    "# SPLITTING THE DATASET INTO TRAIN AND TEST"
   ]
  },
  {
   "cell_type": "code",
   "execution_count": 17,
   "metadata": {},
   "outputs": [],
   "source": [
    "X = df[['V1','V2','V3','V4','V5','V6','V7','V8','V9','V10','V11','V12','V13','V14','V15','V16','V17','V18','V19',\n",
    "          'V20','V21','V22','V23','V24','V25','V26','V27','V28','Amount']]\n",
    "Y = df['Class']\n",
    "\n",
    "X_over_train, X_over_test, y_over_train, y_over_test = train_test_split(X,Y,test_size = 0.3, random_state = 0)\n"
   ]
  },
  {
   "cell_type": "markdown",
   "metadata": {},
   "source": [
    "# RFE ON NAIVE BAYES"
   ]
  },
  {
   "cell_type": "code",
   "execution_count": 18,
   "metadata": {},
   "outputs": [
    {
     "name": "stdout",
     "output_type": "stream",
     "text": [
      "Number of Features: 14\n",
      "Selected features: [ True False  True False  True  True  True False  True  True False  True\n",
      " False  True  True  True  True  True False False False False  True False\n",
      " False False False False False]\n",
      "Ranking of features: [ 1 13  1 16  1  1  1 10  1  1 15  1  4  1  1  1  1  1  8  7 12  3  1  2\n",
      "  6  5 11  9 14]\n"
     ]
    }
   ],
   "source": [
    "model = BernoulliNB()\n",
    "rfe = RFE(model)\n",
    "fit = rfe.fit(X_over_train,y_over_train)\n",
    "print(\"Number of Features: %d\"% fit.n_features_)\n",
    "print(\"Selected features: %s\"% fit.support_)\n",
    "print(\"Ranking of features: %s\"% fit.ranking_)  "
   ]
  },
  {
   "cell_type": "markdown",
   "metadata": {},
   "source": [
    "# MODEL FITTING ON TRAIN DATA"
   ]
  },
  {
   "cell_type": "code",
   "execution_count": 20,
   "metadata": {},
   "outputs": [
    {
     "name": "stdout",
     "output_type": "stream",
     "text": [
      "[[196150   2869]\n",
      " [    53    292]]\n",
      "             precision    recall  f1-score   support\n",
      "\n",
      "          0       1.00      0.99      0.99    199019\n",
      "          1       0.09      0.85      0.17       345\n",
      "\n",
      "avg / total       1.00      0.99      0.99    199364\n",
      "\n",
      "0.9853433919865171\n"
     ]
    }
   ],
   "source": [
    "gnb = GaussianNB()\n",
    "X = X_over_train[['V1','V3','V5', 'V6', 'V7','V9','V10','V12','V14','V15','V16','V17','V18','V23','V24']]\n",
    "gnb.fit(X,y_over_train)\n",
    "y_pred = gnb.predict(X)\n",
    "print(confusion_matrix(y_over_train,y_pred))  \n",
    "print(classification_report(y_over_train,y_pred))\n",
    "print(accuracy_score(y_over_train, y_pred))"
   ]
  },
  {
   "cell_type": "markdown",
   "metadata": {},
   "source": [
    "# MODEL FITTING ON TEST DATA"
   ]
  },
  {
   "cell_type": "code",
   "execution_count": 21,
   "metadata": {},
   "outputs": [
    {
     "name": "stdout",
     "output_type": "stream",
     "text": [
      "[[84107  1189]\n",
      " [   22   125]]\n",
      "             precision    recall  f1-score   support\n",
      "\n",
      "          0       1.00      0.99      0.99     85296\n",
      "          1       0.10      0.85      0.17       147\n",
      "\n",
      "avg / total       1.00      0.99      0.99     85443\n",
      "\n",
      "0.9858268085156185\n"
     ]
    }
   ],
   "source": [
    "X2 = X_over_test[['V1','V3','V5', 'V6', 'V7','V9','V10','V12','V14','V15','V16','V17','V18','V23','V24']]\n",
    "y_pred = gnb.predict(X2)\n",
    "print(confusion_matrix(y_over_test,y_pred))  \n",
    "print(classification_report(y_over_test,y_pred))\n",
    "print(accuracy_score(y_over_test, y_pred))"
   ]
  },
  {
   "cell_type": "code",
   "execution_count": null,
   "metadata": {},
   "outputs": [],
   "source": []
  },
  {
   "cell_type": "code",
   "execution_count": null,
   "metadata": {},
   "outputs": [],
   "source": []
  },
  {
   "cell_type": "markdown",
   "metadata": {},
   "source": [
    "## Grid Search"
   ]
  },
  {
   "cell_type": "code",
   "execution_count": null,
   "metadata": {},
   "outputs": [],
   "source": []
  },
  {
   "cell_type": "code",
   "execution_count": null,
   "metadata": {},
   "outputs": [],
   "source": []
  },
  {
   "cell_type": "code",
   "execution_count": null,
   "metadata": {},
   "outputs": [],
   "source": []
  },
  {
   "cell_type": "code",
   "execution_count": null,
   "metadata": {},
   "outputs": [],
   "source": []
  },
  {
   "cell_type": "code",
   "execution_count": null,
   "metadata": {},
   "outputs": [],
   "source": []
  },
  {
   "cell_type": "markdown",
   "metadata": {},
   "source": [
    "# K BEST ON NAIVE BAYES"
   ]
  },
  {
   "cell_type": "code",
   "execution_count": 22,
   "metadata": {},
   "outputs": [
    {
     "name": "stdout",
     "output_type": "stream",
     "text": [
      "scores_: [2.26880063e+03 1.76190886e+03 7.95457546e+03 3.52636392e+03\n",
      " 2.13445411e+03 3.53547206e+02 7.75982912e+03 7.19923395e+01\n",
      " 1.91805309e+03 9.62797111e+03 4.70966484e+03 1.37731893e+04\n",
      " 4.45629760e+00 1.95908635e+04 5.75834504e+00 7.82187445e+03\n",
      " 2.39857737e+04 2.58424471e+03 2.24068169e+02 6.88135210e+01\n",
      " 5.17236637e+02 3.79273066e+00 1.46290865e+00 7.94203949e+00\n",
      " 4.31626564e+00 5.11319788e+00 1.59791737e+01 2.82729452e+01\n",
      " 1.07570499e+01]\n",
      "pvalues_: [0.00000000e+000 0.00000000e+000 0.00000000e+000 0.00000000e+000\n",
      " 0.00000000e+000 8.37670535e-079 0.00000000e+000 2.17481729e-017\n",
      " 0.00000000e+000 0.00000000e+000 0.00000000e+000 0.00000000e+000\n",
      " 3.47740297e-002 0.00000000e+000 1.64114335e-002 0.00000000e+000\n",
      " 0.00000000e+000 0.00000000e+000 1.24914779e-050 1.08891219e-016\n",
      " 2.36462346e-114 5.14770085e-002 2.26469324e-001 4.83041228e-003\n",
      " 3.77509565e-002 2.37455879e-002 6.40661730e-005 1.05471321e-007\n",
      " 1.03900644e-003]\n",
      "selected index: [ 2  3  6  9 10 11 13 15 16 17]\n",
      "after transform: [[-0.65058817 -0.99603227  0.49685179 ... -0.95040352  0.26298744\n",
      "  -1.76076679]\n",
      " [-1.51476031  0.11502081  0.19928928 ...  0.08026953 -0.65890507\n",
      "  -0.74767782]\n",
      " [ 1.573127    0.68726579  1.57509329 ... -0.13303209 -1.26767455\n",
      "   0.81899524]\n",
      " ...\n",
      " [-0.21906163 -1.63884982 -0.66919326 ... -0.1168142   0.08983971\n",
      "   0.23300344]\n",
      " [-0.14218219 -0.61953301 -1.50197983 ...  1.82617249  0.51349702\n",
      "   0.05919093]\n",
      " [ 1.78478144  0.899612    0.12233419 ...  0.22720288 -0.55825561\n",
      "   0.57803239]]\n"
     ]
    }
   ],
   "source": [
    "#array = under_sample.values\n",
    "test = SelectKBest(score_func=f_classif,k=10)\n",
    "fit = test.fit(X_over_train, y_over_train)\n",
    "print(\"scores_:\",test.scores_)\n",
    "print(\"pvalues_:\",test.pvalues_)\n",
    "print(\"selected index:\",test.get_support(True))\n",
    "print(\"after transform:\",test.transform(X_over_train)) "
   ]
  },
  {
   "cell_type": "markdown",
   "metadata": {},
   "source": [
    "# MODEL FITTING ON TRAIN DATA"
   ]
  },
  {
   "cell_type": "code",
   "execution_count": 23,
   "metadata": {},
   "outputs": [
    {
     "name": "stdout",
     "output_type": "stream",
     "text": [
      "[[197025   1994]\n",
      " [    51    294]]\n",
      "             precision    recall  f1-score   support\n",
      "\n",
      "          0       1.00      0.99      0.99    199019\n",
      "          1       0.13      0.85      0.22       345\n",
      "\n",
      "avg / total       1.00      0.99      0.99    199364\n",
      "\n",
      "0.9897423807708513\n"
     ]
    }
   ],
   "source": [
    "gnb = GaussianNB()\n",
    "X = X_over_train[['V2','V3','V4','V9','V10','V11','V12','V14','V16','V17']]\n",
    "gnb.fit(X,y_over_train)\n",
    "y_pred = gnb.predict(X)\n",
    "print(confusion_matrix(y_over_train,y_pred))  \n",
    "print(classification_report(y_over_train,y_pred))\n",
    "print(accuracy_score(y_over_train, y_pred))"
   ]
  },
  {
   "cell_type": "markdown",
   "metadata": {},
   "source": [
    "# MODEL FITTING ON TEST DATA"
   ]
  },
  {
   "cell_type": "code",
   "execution_count": 50,
   "metadata": {},
   "outputs": [
    {
     "name": "stdout",
     "output_type": "stream",
     "text": [
      "[[147   2]\n",
      " [ 22 125]]\n",
      "              precision    recall  f1-score   support\n",
      "\n",
      "           0       0.87      0.99      0.92       149\n",
      "           1       0.98      0.85      0.91       147\n",
      "\n",
      "   micro avg       0.92      0.92      0.92       296\n",
      "   macro avg       0.93      0.92      0.92       296\n",
      "weighted avg       0.93      0.92      0.92       296\n",
      "\n",
      "0.918918918918919\n"
     ]
    }
   ],
   "source": [
    "X2 = X_under_test[['V2','V3','V4','V9','V10','V11','V12','V14','V16','V17']]\n",
    "y_pred = gnb.predict(X2)\n",
    "print(confusion_matrix(y_under_test,y_pred))  \n",
    "print(classification_report(y_under_test,y_pred))\n",
    "print(accuracy_score(y_under_test, y_pred))"
   ]
  },
  {
   "cell_type": "markdown",
   "metadata": {},
   "source": [
    "# PCA ON NAIVE BAYES"
   ]
  },
  {
   "cell_type": "code",
   "execution_count": 51,
   "metadata": {},
   "outputs": [
    {
     "name": "stdout",
     "output_type": "stream",
     "text": [
      "[9.99970246e-01 2.96341777e-05 8.05741247e-08 1.06952040e-08\n",
      " 1.04275952e-08]\n"
     ]
    }
   ],
   "source": [
    "pca = PCA(n_components=5)\n",
    "X_under_train = pca.fit_transform(X_under_train)\n",
    "X_under_test = pca.transform(X_under_test)\n",
    "explained_variance = pca.explained_variance_ratio_\n",
    "print(explained_variance)"
   ]
  },
  {
   "cell_type": "markdown",
   "metadata": {},
   "source": [
    "# MODEL FITTING ON TRAIN & TEST DATA"
   ]
  },
  {
   "cell_type": "code",
   "execution_count": 52,
   "metadata": {},
   "outputs": [
    {
     "name": "stdout",
     "output_type": "stream",
     "text": [
      "[[147   2]\n",
      " [ 42 105]]\n",
      "              precision    recall  f1-score   support\n",
      "\n",
      "           0       0.78      0.99      0.87       149\n",
      "           1       0.98      0.71      0.83       147\n",
      "\n",
      "   micro avg       0.85      0.85      0.85       296\n",
      "   macro avg       0.88      0.85      0.85       296\n",
      "weighted avg       0.88      0.85      0.85       296\n",
      "\n",
      "0.8513513513513513\n"
     ]
    },
    {
     "name": "stderr",
     "output_type": "stream",
     "text": [
      "C:\\Users\\sayal\\Anaconda3\\lib\\site-packages\\sklearn\\utils\\validation.py:761: DataConversionWarning: A column-vector y was passed when a 1d array was expected. Please change the shape of y to (n_samples, ), for example using ravel().\n",
      "  y = column_or_1d(y, warn=True)\n"
     ]
    }
   ],
   "source": [
    "gnb = GaussianNB()\n",
    "gnb.fit(X_under_train,y_under_train)\n",
    "y_pred = gnb.predict(X_under_test)\n",
    "print(confusion_matrix(y_under_test,y_pred))  \n",
    "print(classification_report(y_under_test,y_pred))\n",
    "print(accuracy_score(y_under_test, y_pred))"
   ]
  },
  {
   "cell_type": "code",
   "execution_count": null,
   "metadata": {},
   "outputs": [],
   "source": []
  }
 ],
 "metadata": {
  "kernelspec": {
   "display_name": "Python 3",
   "language": "python",
   "name": "python3"
  },
  "language_info": {
   "codemirror_mode": {
    "name": "ipython",
    "version": 3
   },
   "file_extension": ".py",
   "mimetype": "text/x-python",
   "name": "python",
   "nbconvert_exporter": "python",
   "pygments_lexer": "ipython3",
   "version": "3.7.1"
  }
 },
 "nbformat": 4,
 "nbformat_minor": 2
}
